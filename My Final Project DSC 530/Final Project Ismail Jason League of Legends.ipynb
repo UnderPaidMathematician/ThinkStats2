{
 "cells": [
  {
   "cell_type": "code",
   "execution_count": 210,
   "metadata": {
    "collapsed": true
   },
   "outputs": [],
   "source": [
    "from __future__ import print_function, division\n",
    "\n",
    "%matplotlib inline\n",
    "\n",
    "import numpy as np\n",
    "import pandas as pd\n",
    "\n",
    "import thinkstats2\n",
    "import thinkplot\n",
    "\n",
    "# Used to find the mode\n",
    "import collections\n"
   ]
  },
  {
   "cell_type": "markdown",
   "source": [
    "League of Legends is a game where teams of 5 players fight to take out the opposing teams' crystal \"Base.\"\n",
    "The map is almost perfectly mirrored into two sections. One side is the red team; the other side is the blue team.\n",
    "It is random which side players start on, and there is no real advantage for being on either red or blue.\n",
    "The main features of the map are called lanes. One red team and blue team member fights for control of the top lane.\n",
    "The same happens in the middle lane, one player vs. one player.\n",
    "The bottom lane is a two versus two-lane with some of the most powerful players fighting for resources.\n",
    "The final spot is called the jungle.\n",
    "The jungle is a dominant position where a player roams to all three lanes to create unbalanced fighting situations.\n",
    "The jungler typically uses the cover of bushes and the fog of war to surprise players and kill them.\n",
    "Gaining information on where the jungler is located is essential.\n",
    "Usually when you get surprised by the jungler, you get killed due to the unbalanced fight.\n",
    "To avoid getting killed by the jungler, people can buy wards with an opportunity cost associated with them.\n",
    "People could use their in-game money to purchase items to help fight other players instead of buying wards.\n",
    "Buying wards can sometimes lead to not coming back to lane with better gear.\n",
    "So some players don't buy them because they would rather have the equipment because they are focused on the o\n",
    "age to teams that buy them. When placed, they show inside of bushes and places that are out of the line of sight of other players where the jungler could be hiding.\n",
    "They are also used to keep tabs on valuable contested resources like monsters that spawn.\n",
    "Monsters give buffs and gold for the people that kill them.\n",
    "The data I will be looking at for this project was found on Kagle and featured data gathered by the league of legends API\n",
    "for high-level diamond-rank gameplay.\n",
    "It covers only the first 10 min of the game and then shows the final result.\n",
    "\n",
    "I believe that winning the ward battle contributes to teams winning the game. I will be exploring that idea."
   ],
   "metadata": {
    "collapsed": false,
    "pycharm": {
     "name": "#%% md\n"
    }
   }
  },
  {
   "cell_type": "code",
   "execution_count": 211,
   "outputs": [],
   "source": [
    "## Loading the data set.\n",
    "league_dataset = pd.read_csv(\"high_diamond_ranked_10min.csv\")"
   ],
   "metadata": {
    "collapsed": false,
    "pycharm": {
     "name": "#%%\n"
    }
   }
  },
  {
   "cell_type": "code",
   "execution_count": 212,
   "outputs": [
    {
     "name": "stdout",
     "output_type": "stream",
     "text": [
      "For Blue Wards Placed: We found 0 null values.\n",
      "For Red Wards Placed: We found 0 null values.\n",
      "For Blue Wards Destroyed: We found 0 null values.\n",
      "For Red Wards Destroyed: We found 0 null values.\n",
      "For Blue player kills, Red player deaths: We found 0 null values.\n",
      "For Red player kills, Blue player deaths: We found 0 null values.\n",
      "For for total gold accumulated blue: We found 0 null values.\n",
      "For for total gold accumulated blue: We found 0 null values.\n",
      "For Blue difference in gold.: We found 0 null values.\n",
      "For Red difference in gold.: We found 0 null values.\n",
      "For Blue vs. Red team winning.: We found 0 null values.\n"
     ]
    }
   ],
   "source": [
    "## EDA Section\n",
    "## Testing for NAN values.\n",
    "# Ward placement\n",
    "print(\"For {}: We found {} null values.\".format(\"Blue Wards Placed\", league_dataset.blueWardsPlaced.isnull().sum()))\n",
    "print(\"For {}: We found {} null values.\".format(\"Red Wards Placed\", league_dataset.blueWardsPlaced.isnull().sum()))\n",
    "\n",
    "# Wards Destroyed\n",
    "print(\"For {}: We found {} null values.\".format(\"Blue Wards Destroyed\", league_dataset.blueWardsDestroyed.isnull().sum()))\n",
    "print(\"For {}: We found {} null values.\".format(\"Red Wards Destroyed\", league_dataset.redWardsDestroyed.isnull().sum()))\n",
    "\n",
    "# Player kills\n",
    "print(\"For {}: We found {} null values.\".format(\"Blue player kills, Red player deaths\", league_dataset.blueKills.isnull().sum()))\n",
    "print(\"For {}: We found {} null values.\".format(\"Red player kills, Blue player deaths\", league_dataset.redKills.isnull().sum()))\n",
    "\n",
    "# total gold accumulated\n",
    "print(\"For {}: We found {} null values.\".format(\"for total gold accumulated blue\", league_dataset.blueTotalGold.isnull().sum()))\n",
    "print(\"For {}: We found {} null values.\".format(\"for total gold accumulated blue\", league_dataset.redTotalGold.isnull().sum()))\n",
    "\n",
    "# Team difference in gold.\n",
    "print(\"For {}: We found {} null values.\".format(\"Blue difference in gold.\", league_dataset.blueGoldDiff.isnull().sum()))\n",
    "print(\"For {}: We found {} null values.\".format(\"Red difference in gold.\", league_dataset.redGoldDiff.isnull().sum()))\n",
    "\n",
    "# Blue team wins vs red team wins.\n",
    "print(\"For {}: We found {} null values.\".format(\"Blue vs. Red team winning.\", league_dataset.blueWins.isnull().sum()))\n",
    "\n",
    "# We did not have to fix any of the records.\n",
    "\n",
    "## Given that ward placement is one of my main questions I am trying to work with I would have most likely omitted these records if I had found them to have missing data.\n",
    "#  I also understand that at times it would be okay to fill in the average but in this case I would have still thrown them out."
   ],
   "metadata": {
    "collapsed": false,
    "pycharm": {
     "name": "#%%\n"
    }
   }
  },
  {
   "cell_type": "markdown",
   "source": [
    "I have chosen to ignore the data on the number of assists a team has.\n",
    "I know there is an exchange in game currency for this variable.\n",
    "My concern is that there is too much variability in how awards are given out when people get assists in this game.\n",
    "It also does not take into account how many people assisted in getting that kill.\n",
    "So I feel this would be unmanageable and would lead to duplicating results."
   ],
   "metadata": {
    "collapsed": false,
    "pycharm": {
     "name": "#%% md\n"
    }
   }
  },
  {
   "cell_type": "markdown",
   "source": [
    "For Ease of grading, I will try and mark where the significant events occur in my document.\n",
    "\n",
    "o  A minimum of 5 variables in your dataset used during your analysis (for help with selecting, the author made his selection on page 6 of your book).  Consider what you think could have an impact on your question – remember this is never perfect, so don’t be worried if you miss one (Chapter 1).\n",
    "o\tDescribe what the 5 variables mean in the dataset (Chapter 1).\n",
    "\n",
    "In my dataset, there are two teams, red and blue. I will alternate between both sides for the variables I choose.\n",
    "The reason for this is that I need to be able to see that the data is similar visually.\n",
    "I want to ensure that there is no bias toward the team color.\n",
    "Example: Blue has an advantage over red. (I don’t believe this is the case)\n",
    "I expect that histograms will be similar between the two team colors.\n",
    "I want to prove that the actions of the teams dictate whether or not they win.\n",
    "\n",
    "They will include: (Alternating between blue and red teams)\n",
    "Wards Placed: Wards are used to gain intel on the enemy team movements.\n",
    "I feel that wards contribute to teams winning games though I am not convinced that it is a linear relationship.\n",
    "\n",
    "Wards Destroyed: Teams can spend money and time trying to find and destroy other team’s wards.\n",
    "\n",
    "Player kills: I suspect that warding means that the other team dies more often.\n",
    "Killing other players leads to experience gained, and gold received that can be used to buy items and wards.\n",
    "\n",
    "Total Gold: This variable is the team’s gold that was collected within the first 10 min of the game.\n",
    "Gold is used to purchase wards and gear that makes your character more powerful.\n",
    "\n",
    "The gold difference: This considers how much more gold a team has in the first 10 min of play.\n",
    "The gold difference could be an indicator of winning the game. However, games last a lot longer than 10 min typically.\n",
    "\n",
    "Winning or losing: The outcome of the game.\n",
    "The goal is to predict whether or not a team wins based on the above factors.\n",
    "If possible, I would like to predict this variable.\n",
    "I suspect that we may need to solve this using K-Means Clustering, which I don't know will be covered in this course.\n"
   ],
   "metadata": {
    "collapsed": false
   }
  },
  {
   "cell_type": "markdown",
   "source": [
    "o\tInclude the other descriptive characteristics about the variables: Mean, Mode, Spread, and Tails (Chapter 2)."
   ],
   "metadata": {
    "collapsed": false,
    "pycharm": {
     "name": "#%% md\n"
    }
   }
  },
  {
   "cell_type": "code",
   "execution_count": 213,
   "outputs": [],
   "source": [
    "# definition to find the mode\n",
    "\n",
    "def FindMode(mode_data):\n",
    "    # calculate the frequency of each item\n",
    "    data = collections.Counter(mode_data)\n",
    "    data_list = dict(data)\n",
    "\n",
    "    # Find the highest frequency\n",
    "    max_value = max(list(data.values()))\n",
    "    mode_val = [num for num, freq in data_list.items() if freq == max_value]\n",
    "    if len(mode_val) == len(mode_data):\n",
    "       print(\"No mode in the list\")\n",
    "    else:\n",
    "       print(\"Mode: \" + ', '.join(map(str,mode_val)))"
   ],
   "metadata": {
    "collapsed": false,
    "pycharm": {
     "name": "#%%\n"
    }
   }
  },
  {
   "cell_type": "code",
   "execution_count": 214,
   "outputs": [],
   "source": [
    "# Computes the fraction of scores less than or equal to your score\n",
    "def PercentileRank(scores, your_score):\n",
    "    count = 0\n",
    "    for score in scores:\n",
    "        if score <= your_score:\n",
    "            count += 1\n",
    "\n",
    "    percentile_rank = 100.0 * count / len(scores)\n",
    "    return percentile_rank\n",
    "\n",
    "# Computes the score based on percentile\n",
    "# Can be used to calculate median\n",
    "\n",
    "def Percentile(scores, percentile_rank):\n",
    "    # since this is a pandas object sort did not work with my dataframe\n",
    "    scores.sort_values()\n",
    "    for score in scores:\n",
    "        if PercentileRank(scores, score) >= percentile_rank:\n",
    "            return score"
   ],
   "metadata": {
    "collapsed": false,
    "pycharm": {
     "name": "#%%\n"
    }
   }
  },
  {
   "cell_type": "code",
   "execution_count": 215,
   "outputs": [],
   "source": [
    "def FindMean(data_column):\n",
    "    return data_column.mean()"
   ],
   "metadata": {
    "collapsed": false,
    "pycharm": {
     "name": "#%% compute the mean\n"
    }
   }
  },
  {
   "cell_type": "code",
   "execution_count": 216,
   "outputs": [],
   "source": [
    "def FindMedian(data_column):\n",
    "    data_sort = data_column.sort_values()\n",
    "    # Finding the position of the median\n",
    "    if len(data_sort) % 2 == 0:\n",
    "       first_median = data_sort[len(data_sort) // 2]\n",
    "       second_median = data_sort[len(data_sort) // 2 - 1]\n",
    "       median = (first_median + second_median) / 2\n",
    "    else:\n",
    "       median = data_sort[len(data_sort) // 2]\n",
    "    return median"
   ],
   "metadata": {
    "collapsed": false,
    "pycharm": {
     "name": "#%% compute median\n"
    }
   }
  },
  {
   "cell_type": "code",
   "execution_count": 217,
   "outputs": [],
   "source": [
    "def FindSpread(data_column):\n",
    "    sorted = data_column.sort_values()\n",
    "    minimum = min(sorted)\n",
    "    maximum = max(sorted)\n",
    "    spread = maximum - minimum\n",
    "    return spread, maximum, minimum"
   ],
   "metadata": {
    "collapsed": false,
    "pycharm": {
     "name": "#%%\n"
    }
   }
  },
  {
   "cell_type": "code",
   "execution_count": 218,
   "outputs": [],
   "source": [
    "def FindDifferenceMeanMedian(data_column):\n",
    "    mean = FindMean(data_column)\n",
    "    median = FindMedian((data_column))\n",
    "    return median - mean\n"
   ],
   "metadata": {
    "collapsed": false,
    "pycharm": {
     "name": "#%%\n"
    }
   }
  },
  {
   "cell_type": "markdown",
   "source": [
    "Descriptive characteristics section as follows:\n"
   ],
   "metadata": {
    "collapsed": false,
    "pycharm": {
     "name": "#%% md\n"
    }
   }
  },
  {
   "cell_type": "code",
   "execution_count": 219,
   "outputs": [],
   "source": [
    "# Building variables section\n",
    "blue_Wards_Placed  = league_dataset.blueWardsPlaced\n",
    "red_Wards_Placed = league_dataset.redWardsPlaced\n",
    "\n",
    "blue_wards_destroyed = league_dataset.blueWardsDestroyed\n",
    "red_wards_destroyed = league_dataset.redWardsDestroyed\n",
    "\n",
    "blue_kills = league_dataset.blueKills\n",
    "red_kills = league_dataset.redKills\n",
    "\n",
    "blue_total_gold = league_dataset.blueTotalGold\n",
    "red_total_gold = league_dataset.redTotalGold\n",
    "\n",
    "blue_gold_diff = league_dataset.blueGoldDiff\n",
    "red_gold_diff = league_dataset.redGoldDiff\n",
    "\n",
    "blue_wins = league_dataset.blueWins"
   ],
   "metadata": {
    "collapsed": false,
    "pycharm": {
     "name": "#%%\n"
    }
   }
  },
  {
   "cell_type": "code",
   "execution_count": 220,
   "outputs": [],
   "source": [
    "def DescriptiveCharacteristics(data_column, title):\n",
    "    # Descriptive characteristics section.\n",
    "    print(\"Note the none that is printing after mode is due to the object I am using to track it.\\n\\n\")\n",
    "\n",
    "    # Blue Wards placed\n",
    "    print(\"---{}---\".format(title))\n",
    "    print(\"Median: {}\".format(FindMedian(data_column)))\n",
    "    print(\"Mean: {}\".format(FindMean(data_column)))\n",
    "    Spread, Minimum, Maximum = FindSpread(data_column)\n",
    "    print(\"Spread: {} min: {} Max: {}\\n\".format(Spread, Maximum, Minimum))\n",
    "    print(FindMode(data_column))\n",
    "    print(\"Tails info: \\n\"\n",
    "          \"Median - Mean is: {}\".format(FindDifferenceMeanMedian(data_column)))\n"
   ],
   "metadata": {
    "collapsed": false,
    "pycharm": {
     "name": "#%%\n"
    }
   }
  },
  {
   "cell_type": "code",
   "execution_count": 221,
   "outputs": [
    {
     "name": "stdout",
     "output_type": "stream",
     "text": [
      "Note the none that is printing after mode is due to the object I am using to track it.\n",
      "\n",
      "\n",
      "---Blue Wards Placed---\n",
      "Median: 20\n",
      "Mean: 22.28828828828829\n",
      "Spread: 245 min: 5 Max: 250\n",
      "\n",
      "Mode: 16\n",
      "None\n",
      "Tails info: \n",
      "Median - Mean is: -2.288288288288289\n",
      "Since the difference is negative and there is a large distance between median and mean \n",
      "I expect data that is skewed right. \n",
      "\n",
      "Note the none that is printing after mode is due to the object I am using to track it.\n",
      "\n",
      "\n",
      "---Red Wards Placed---\n",
      "Median: 16\n",
      "Mean: 22.367952221884806\n",
      "Spread: 270 min: 6 Max: 276\n",
      "\n",
      "Mode: 15\n",
      "None\n",
      "Tails info: \n",
      "Median - Mean is: -6.367952221884806\n",
      "Since the difference is negative and there is a large distance between median and mean \n",
      "I expect data that is skewed right. \n",
      "\n",
      "Note the none that is printing after mode is due to the object I am using to track it.\n",
      "\n",
      "\n",
      "---Blue Wards Destroyed---\n",
      "Median: 2\n",
      "Mean: 2.824881060836117\n",
      "Spread: 27 min: 0 Max: 27\n",
      "\n",
      "Mode: 2\n",
      "None\n",
      "Tails info: \n",
      "Median - Mean is: -0.824881060836117\n",
      "Since the difference is negative and there is a large distance between median and mean \n",
      "I expect data that is skewed right. \n",
      "\n",
      "Note the none that is printing after mode is due to the object I am using to track it.\n",
      "\n",
      "\n",
      "---Red Wards Destroyed---\n",
      "Median: 4\n",
      "Mean: 2.723150116408543\n",
      "Spread: 24 min: 0 Max: 24\n",
      "\n",
      "Mode: 2\n",
      "None\n",
      "Tails info: \n",
      "Median - Mean is: 1.2768498835914568\n",
      "Since the difference is positive and there is a large distance between median and mean \n",
      "I expect data that is skewed left. \n",
      "\n",
      "Note the none that is printing after mode is due to the object I am using to track it.\n",
      "\n",
      "\n",
      "---Blue Kills---\n",
      "Median: 8\n",
      "Mean: 6.18392549853224\n",
      "Spread: 22 min: 0 Max: 22\n",
      "\n",
      "Mode: 6\n",
      "None\n",
      "Tails info: \n",
      "Median - Mean is: 1.8160745014677602\n",
      "Since the difference is positive and there is a large distance between median and mean \n",
      "I expect data that is skewed left. \n",
      "\n",
      "Note the none that is printing after mode is due to the object I am using to track it.\n",
      "\n",
      "\n",
      "---Red Kills---\n",
      "Median: 6\n",
      "Mean: 6.137665755643284\n",
      "Spread: 22 min: 0 Max: 22\n",
      "\n",
      "Mode: 5\n",
      "None\n",
      "Tails info: \n",
      "Median - Mean is: -0.1376657556432841\n",
      "Since there is a small distance between median and mean \n",
      "I expect data to be pretty normal. \n",
      "\n",
      "Note the none that is printing after mode is due to the object I am using to track it.\n",
      "\n",
      "\n",
      "---Blue Total Gold---\n",
      "Median: 17828\n",
      "Mean: 16503.455511691467\n",
      "Spread: 12971 min: 10730 Max: 23701\n",
      "\n",
      "Mode: 16749, 15885, 16956\n",
      "None\n",
      "Tails info: \n",
      "Median - Mean is: 1324.544488308533\n",
      "Since the difference is negative and there is a large distance between median and mean \n",
      "I expect data that is skewed right. \n",
      "\n",
      "Note the none that is printing after mode is due to the object I am using to track it.\n",
      "\n",
      "\n",
      "---Red Total Gold---\n",
      "Median: 16786\n",
      "Mean: 16489.04140095151\n",
      "Spread: 11520 min: 11212 Max: 22732\n",
      "\n",
      "Mode: 16074\n",
      "None\n",
      "Tails info: \n",
      "Median - Mean is: 296.9585990484884\n",
      "Since the difference is negative and there is a large distance between median and mean \n",
      "I expect data that is skewed right. \n",
      "\n",
      "Note the none that is printing after mode is due to the object I am using to track it.\n",
      "\n",
      "\n",
      "---Blue Gold Difference---\n",
      "Median: 1042\n",
      "Mean: 14.414110739953436\n",
      "Spread: 22297 min: -10830 Max: 11467\n",
      "\n",
      "Mode: 428\n",
      "None\n",
      "Tails info: \n",
      "Median - Mean is: 1027.5858892600465\n",
      "Since the difference is negative and there is a large distance between median and mean \n",
      "I expect data that is skewed right. \n",
      "\n",
      "Note the none that is printing after mode is due to the object I am using to track it.\n",
      "\n",
      "\n",
      "---Red Gold Difference---\n",
      "Median: -1042\n",
      "Mean: -14.414110739953436\n",
      "Spread: 22297 min: -11467 Max: 10830\n",
      "\n",
      "Mode: -428\n",
      "None\n",
      "Tails info: \n",
      "Median - Mean is: -1027.5858892600465\n",
      "Since the difference is negative and there is a large distance between median and mean \n",
      "I expect data that is skewed right. \n",
      "\n",
      "Note the none that is printing after mode is due to the object I am using to track it.\n",
      "\n",
      "\n",
      "---Blue Wins---\n",
      "Median: 0\n",
      "Mean: 0.4990383642069035\n",
      "Spread: 1 min: 0 Max: 1\n",
      "\n",
      "Mode: 0\n",
      "None\n",
      "Tails info: \n",
      "Median - Mean is: -0.4990383642069035\n",
      "Since the difference is negative and there is a large distance between median and mean \n",
      "I expect data that is skewed right. \n",
      "\n"
     ]
    }
   ],
   "source": [
    "DescriptiveCharacteristics(blue_Wards_Placed,\"Blue Wards Placed\")\n",
    "print(\"Since the difference is negative and there is a large distance between median and mean \\nI expect data that is skewed right. \\n\")\n",
    "DescriptiveCharacteristics(red_Wards_Placed,\"Red Wards Placed\")\n",
    "print(\"Since the difference is negative and there is a large distance between median and mean \\nI expect data that is skewed right. \\n\")\n",
    "\n",
    "DescriptiveCharacteristics(blue_wards_destroyed,\"Blue Wards Destroyed\")\n",
    "print(\"Since the difference is negative and there is a large distance between median and mean \\nI expect data that is skewed right. \\n\")\n",
    "DescriptiveCharacteristics(red_wards_destroyed,\"Red Wards Destroyed\")\n",
    "print(\"Since the difference is positive and there is a large distance between median and mean \\nI expect data that is skewed left. \\n\")\n",
    "\n",
    "DescriptiveCharacteristics(blue_kills,\"Blue Kills\")\n",
    "print(\"Since the difference is positive and there is a large distance between median and mean \\nI expect data that is skewed left. \\n\")\n",
    "DescriptiveCharacteristics(red_kills,\"Red Kills\")\n",
    "print(\"Since there is a small distance between median and mean \\nI expect data to be pretty normal. \\n\")\n",
    "\n",
    "DescriptiveCharacteristics(blue_total_gold,\"Blue Total Gold\")\n",
    "print(\"Since the difference is negative and there is a large distance between median and mean \\nI expect data that is skewed right. \\n\")\n",
    "DescriptiveCharacteristics(red_total_gold,\"Red Total Gold\")\n",
    "print(\"Since the difference is negative and there is a large distance between median and mean \\nI expect data that is skewed right. \\n\")\n",
    "\n",
    "DescriptiveCharacteristics(blue_gold_diff,\"Blue Gold Difference\")\n",
    "print(\"Since the difference is negative and there is a large distance between median and mean \\nI expect data that is skewed right. \\n\")\n",
    "DescriptiveCharacteristics(red_gold_diff,\"Red Gold Difference\")\n",
    "print(\"Since the difference is negative and there is a large distance between median and mean \\nI expect data that is skewed right. \\n\")\n",
    "\n",
    "DescriptiveCharacteristics(blue_wins,\"Blue Wins\")\n",
    "print(\"Since the difference is negative and there is a large distance between median and mean \\nI expect data that is skewed right. \\n\")\n",
    "\n"
   ],
   "metadata": {
    "collapsed": false,
    "pycharm": {
     "name": "#%%\n"
    }
   }
  },
  {
   "cell_type": "markdown",
   "source": [
    "o\tInclude a histogram of each of the 5 variables – in your summary and analysis, identify any outliers and explain the reasoning for them being outliers and how you believe they should be handled (Chapter 2)."
   ],
   "metadata": {
    "collapsed": false,
    "pycharm": {
     "name": "#%% md\n"
    }
   }
  },
  {
   "cell_type": "code",
   "execution_count": 222,
   "outputs": [
    {
     "data": {
      "text/plain": "<Figure size 432x288 with 1 Axes>",
      "image/png": "[encoded data removed]"
     },
     "metadata": {
      "needs_background": "light"
     },
     "output_type": "display_data"
    }
   ],
   "source": [
    "## Blue wards placed.\n",
    "# Building a histogram wards placed vs number of games.\n",
    "blue_wards_placed_histogram = thinkstats2.Hist(league_dataset.blueWardsPlaced, label=\"Blue Wards Placed\")\n",
    "thinkplot.Hist(blue_wards_placed_histogram)\n",
    "thinkplot.Config(xlabel='Number of blue wards placed', ylabel='Number of games')"
   ],
   "metadata": {
    "collapsed": false,
    "pycharm": {
     "name": "#%%\n"
    }
   }
  },
  {
   "cell_type": "code",
   "execution_count": 223,
   "outputs": [
    {
     "data": {
      "text/plain": "<Figure size 432x288 with 1 Axes>",
      "image/png": "[encoded data removed]"
     },
     "metadata": {
      "needs_background": "light"
     },
     "output_type": "display_data"
    }
   ],
   "source": [
    "## Red wards placed.\n",
    "# Building a histogram wards placed vs number of games.\n",
    "red_wards_placed_histogram = thinkstats2.Hist(league_dataset.redWardsPlaced, label=\"red Wards Placed\")\n",
    "thinkplot.Hist(red_wards_placed_histogram)\n",
    "thinkplot.Config(xlabel='Number of red wards placed', ylabel='Number of games')"
   ],
   "metadata": {
    "collapsed": false,
    "pycharm": {
     "name": "#%%\n"
    }
   }
  },
  {
   "cell_type": "markdown",
   "source": [
    "The results of the histograms came out as expected. Not all players like to buy wards, so we see that the number of wards purchased is skewed right. More importantly, we are noticing that both distributions have a similar shape. It is random which side you are placed on at the beginning of the match, so I would have been surprised if they looked different from each other.\n"
   ],
   "metadata": {
    "collapsed": false
   }
  },
  {
   "cell_type": "code",
   "execution_count": 224,
   "outputs": [
    {
     "data": {
      "text/plain": "<Figure size 432x288 with 1 Axes>",
      "image/png": "[encoded data removed]"
     },
     "metadata": {
      "needs_background": "light"
     },
     "output_type": "display_data"
    }
   ],
   "source": [
    "## Blue wards destroyed\n",
    "# Building a histogram wards destroyed vs number of games.\n",
    "blue_wards_destroyed_histogram = thinkstats2.Hist(league_dataset.blueWardsDestroyed, label=\"Blue Wards Destroyed\")\n",
    "thinkplot.Hist(blue_wards_destroyed_histogram)\n",
    "thinkplot.Config(xlabel='Number of blue wards Destroyed', ylabel='Number of games')"
   ],
   "metadata": {
    "collapsed": false,
    "pycharm": {
     "name": "#%%\n"
    }
   }
  },
  {
   "cell_type": "code",
   "execution_count": 225,
   "outputs": [
    {
     "data": {
      "text/plain": "<Figure size 432x288 with 1 Axes>",
      "image/png": "[encoded data removed]"
     },
     "metadata": {
      "needs_background": "light"
     },
     "output_type": "display_data"
    }
   ],
   "source": [
    "## Red wards destroyed\n",
    "# Building a histogram wards destroyed vs number of games.\n",
    "red_wards_destroyed_histogram = thinkstats2.Hist(league_dataset.redWardsDestroyed, label=\"Red Wards Destroyed\")\n",
    "thinkplot.Hist(red_wards_destroyed_histogram)\n",
    "thinkplot.Config(xlabel='Number of red wards Destroyed', ylabel='Number of games')"
   ],
   "metadata": {
    "collapsed": false,
    "pycharm": {
     "name": "#%%\n"
    }
   }
  },
  {
   "cell_type": "markdown",
   "source": [
    "I was not sure what to expect with this one. There are quite a few unknowns. First of all, some wards are visible and can be easily destroyed, but that requires the other team to place that ward. Its a special ward called a pink ward. It is expensive and allows you to see the other teams hidden wards and destroy them. So basically, it is a counter ward that you put down. Some players buy items that give them the ability to see wards around them for a short time so that they can destroy wards that way. I expect this data to be all over the map. (We shall see) Well, I was wrong. This data looks pretty good—another skewed right distribution. Again, you can see some wards without any effort; you have to look for them, so destroying wards happens more often than I expected. Red and blue had similar looking histograms which was as expected.\n"
   ],
   "metadata": {
    "collapsed": false
   }
  },
  {
   "cell_type": "code",
   "execution_count": 226,
   "outputs": [
    {
     "data": {
      "text/plain": "<Figure size 432x288 with 1 Axes>",
      "image/png": "[encoded data removed]"
     },
     "metadata": {
      "needs_background": "light"
     },
     "output_type": "display_data"
    }
   ],
   "source": [
    "## Blue Player killing red players.\n",
    "# Building a histogram wards destroyed vs number of games.\n",
    "blue_kills = thinkstats2.Hist(league_dataset.blueKills, label=\"Red player deaths.\")\n",
    "thinkplot.Hist(blue_kills)\n",
    "thinkplot.Config(xlabel='Number of red players killed', ylabel='Number of games')"
   ],
   "metadata": {
    "collapsed": false,
    "pycharm": {
     "name": "#%%\n"
    }
   }
  },
  {
   "cell_type": "code",
   "execution_count": 227,
   "outputs": [
    {
     "data": {
      "text/plain": "<Figure size 432x288 with 1 Axes>",
      "image/png": "[encoded data removed]"
     },
     "metadata": {
      "needs_background": "light"
     },
     "output_type": "display_data"
    }
   ],
   "source": [
    "## Red players killing blue players.\n",
    "# Building a histogram wards destroyed vs number of games.\n",
    "red_kills = thinkstats2.Hist(league_dataset.redKills, label=\"Blue player deaths.\")\n",
    "thinkplot.Hist(red_kills)\n",
    "thinkplot.Config(xlabel='Number of blue players killed', ylabel='Number of games')"
   ],
   "metadata": {
    "collapsed": false,
    "pycharm": {
     "name": "#%%\n"
    }
   }
  },
  {
   "cell_type": "markdown",
   "source": [
    "Interestingly these graphs look to be slightly skewed right, but they are the most normal histograms we have seen so far. Blue and red have similar histogram shapes as expected.\n"
   ],
   "metadata": {
    "collapsed": false
   }
  },
  {
   "cell_type": "code",
   "execution_count": 228,
   "outputs": [
    {
     "data": {
      "text/plain": "<Figure size 432x288 with 1 Axes>",
      "image/png": "[encoded data removed]"
     },
     "metadata": {
      "needs_background": "light"
     },
     "output_type": "display_data"
    }
   ],
   "source": [
    "# Total Gold collected by blue team.\n",
    "# Histogram total gold in 10 min of play vs games played.\n",
    "blue_total_gold = thinkstats2.Hist(league_dataset.blueTotalGold, label=\"Blue team gold.\")\n",
    "thinkplot.Hist(blue_total_gold)\n",
    "thinkplot.Config(xlabel='Blue Gold Accumulated', ylabel='Number of games')"
   ],
   "metadata": {
    "collapsed": false,
    "pycharm": {
     "name": "#%%\n"
    }
   }
  },
  {
   "cell_type": "code",
   "execution_count": 229,
   "outputs": [
    {
     "data": {
      "text/plain": "<Figure size 432x288 with 1 Axes>",
      "image/png": "[encoded data removed]"
     },
     "metadata": {
      "needs_background": "light"
     },
     "output_type": "display_data"
    }
   ],
   "source": [
    "# Total Gold collected by red team.\n",
    "# Histogram total gold in 10 min of play vs games played.\n",
    "red_total_gold = thinkstats2.Hist(league_dataset.redTotalGold, label=\"Red team gold.\")\n",
    "thinkplot.Hist(red_total_gold)\n",
    "thinkplot.Config(xlabel='Red Gold Accumulated', ylabel='Number of games')"
   ],
   "metadata": {
    "collapsed": false,
    "pycharm": {
     "name": "#%%\n"
    }
   }
  },
  {
   "cell_type": "markdown",
   "source": [
    "Both have the same general shape. It looks skewed right, and there is a possibility of outliers.\n",
    "\n",
    "If there is time, I will put this data into bins."
   ],
   "metadata": {
    "collapsed": false
   }
  },
  {
   "cell_type": "code",
   "execution_count": 230,
   "outputs": [
    {
     "data": {
      "text/plain": "<Figure size 432x288 with 1 Axes>",
      "image/png": "[encoded data removed]"
     },
     "metadata": {
      "needs_background": "light"
     },
     "output_type": "display_data"
    }
   ],
   "source": [
    "# Difference in gold collected.\n",
    "# Histogram gold difference in 10 min of play vs games played.\n",
    "blue_gold_difference = thinkstats2.Hist(league_dataset.blueGoldDiff, label=\"Blue team gold difference compared to red.\")\n",
    "thinkplot.Hist(blue_gold_difference)\n",
    "thinkplot.Config(xlabel='Blue Gold difference.', ylabel='Number of games')"
   ],
   "metadata": {
    "collapsed": false,
    "pycharm": {
     "name": "#%%\n"
    }
   }
  },
  {
   "cell_type": "code",
   "execution_count": 231,
   "outputs": [
    {
     "data": {
      "text/plain": "<Figure size 432x288 with 1 Axes>",
      "image/png": "[encoded data removed]"
     },
     "metadata": {
      "needs_background": "light"
     },
     "output_type": "display_data"
    }
   ],
   "source": [
    "# Difference in gold collected.\n",
    "# Histogram gold difference in 10 min of play vs games played.\n",
    "red_gold_difference = thinkstats2.Hist(league_dataset.redGoldDiff, label=\"red team gold difference compared to blue.\")\n",
    "thinkplot.Hist(red_gold_difference)\n",
    "thinkplot.Config(xlabel='red Gold difference.', ylabel='Number of games')"
   ],
   "metadata": {
    "collapsed": false,
    "pycharm": {
     "name": "#%%\n"
    }
   }
  },
  {
   "cell_type": "markdown",
   "source": [
    "This represents how much the difference in gold is in 10 min of game play.\n",
    "We will consider this as an indicator for the final outcome of the game."
   ],
   "metadata": {
    "collapsed": false
   }
  },
  {
   "cell_type": "code",
   "execution_count": 232,
   "outputs": [
    {
     "data": {
      "text/plain": "<Figure size 864x432 with 1 Axes>",
      "image/png": "[encoded data removed]"
     },
     "metadata": {
      "needs_background": "light"
     },
     "output_type": "display_data"
    }
   ],
   "source": [
    "# Blue Wins 0 means red wins 1 means blue wins the game.\n",
    "# Histogram gold difference in 10 min of play vs games played.\n",
    "blue_wins = thinkstats2.Hist(league_dataset.blueWins, label=\"Blue team wins the game.\")\n",
    "thinkplot.preplot(1,cols=2)\n",
    "thinkplot.Hist(blue_wins, width = .20)\n",
    "thinkplot.Config(xlabel='Blue wins the game.', ylabel='Number of games', legend= None)"
   ],
   "metadata": {
    "collapsed": false,
    "pycharm": {
     "name": "#%%\n"
    }
   }
  },
  {
   "cell_type": "markdown",
   "source": [
    "This is as expected. There is no advantage for starting on red team vs blue team."
   ],
   "metadata": {
    "collapsed": false,
    "pycharm": {
     "name": "#%% md\n"
    }
   }
  },
  {
   "cell_type": "markdown",
   "source": [
    "I predict there will be a correlation with placing wards and gold earned.\n",
    "\n",
    "I also think that gold earned leads to winning.\n",
    "\n",
    "Although I actually don't expect solid linear relationships.\n",
    "\n",
    "I suspect there is a sweet spot for how many wards a team should place to increase their chances for winning the game."
   ],
   "metadata": {
    "collapsed": false,
    "pycharm": {
     "name": "#%% md\n"
    }
   }
  },
  {
   "cell_type": "code",
   "execution_count": 232,
   "outputs": [],
   "source": [],
   "metadata": {
    "collapsed": false,
    "pycharm": {
     "name": "#%%\n"
    }
   }
  },
  {
   "cell_type": "markdown",
   "source": [
    "o\tUsing pg. 29 of your text as an example, compare two scenarios in your data using a PMF. Reminder, this isn’t comparing two variables against each other – it is the same variable, but a different scenario.  Almost like a filter. The example in the book is first babies compared to all other babies, it is still the same variable, but breaking the data out based on criteria we are exploring (Chapter 3).\n",
    "o\tCreate 1 CDF with one of your variables, using page 41-44 as your guide, what does this tell you about your variable and how does it address the question you are trying to answer (Chapter 4).\n",
    "o\tPlot 1 analytical distribution and provide your analysis on how it applies to the dataset you have chosen (Chapter 5).\n",
    "o\tCreate two scatter plots comparing two variables and provide your analysis on correlation and causation. Remember, covariance, Pearson’s correlation, and Non-Linear Relationships should also be considered during your analysis (Chapter 7).\n",
    "o\tConduct a test on your hypothesis using one of the methods covered in Chapter 9.\n",
    "o\tFor this project, conduct a regression analysis on either one dependent and one explanatory variable, or multiple explanatory variables (Chapter 10 & 11).\n",
    "\n",
    "\n"
   ],
   "metadata": {
    "collapsed": false
   }
  }
 ],
 "metadata": {
  "kernelspec": {
   "display_name": "Python 3",
   "language": "python",
   "name": "python3"
  },
  "language_info": {
   "codemirror_mode": {
    "name": "ipython",
    "version": 2
   },
   "file_extension": ".py",
   "mimetype": "text/x-python",
   "name": "python",
   "nbconvert_exporter": "python",
   "pygments_lexer": "ipython2",
   "version": "2.7.6"
  }
 },
 "nbformat": 4,
 "nbformat_minor": 0
}