{
 "cells": [
  {
   "cell_type": "markdown",
   "metadata": {},
   "source": [
    "# Examples and Exercises from Think Stats, 2nd Edition\n",
    "\n",
    "http://thinkstats2.com\n",
    "\n",
    "Copyright 2016 Allen B. Downey\n",
    "\n",
    "MIT License: https://opensource.org/licenses/MIT\n"
   ]
  },
  {
   "cell_type": "code",
   "execution_count": 41,
   "metadata": {},
   "outputs": [],
   "source": [
    "from __future__ import print_function, division\n",
    "\n",
    "%matplotlib inline\n",
    "\n",
    "import numpy as np\n",
    "\n",
    "import brfss\n",
    "\n",
    "import thinkstats2\n",
    "import thinkplot"
   ]
  },
  {
   "cell_type": "markdown",
   "metadata": {},
   "source": [
    "## The estimation game\n"
   ]
  },
  {
   "cell_type": "markdown",
   "metadata": {},
   "source": [
    "Root mean squared error is one of several ways to summarize the average error of an estimation process."
   ]
  },
  {
   "cell_type": "code",
   "execution_count": 42,
   "metadata": {},
   "outputs": [],
   "source": [
    "def RMSE(estimates, actual):\n",
    "    \"\"\"Computes the root mean squared error of a sequence of estimates.\n",
    "\n",
    "    estimate: sequence of numbers\n",
    "    actual: actual value\n",
    "\n",
    "    returns: float RMSE\n",
    "    \"\"\"\n",
    "    e2 = [(estimate-actual)**2 for estimate in estimates]\n",
    "    mse = np.mean(e2)\n",
    "    return np.sqrt(mse)"
   ]
  },
  {
   "cell_type": "markdown",
   "metadata": {},
   "source": [
    "The following function simulates experiments where we try to estimate the mean of a population based on a sample with size `n=7`.  We run `iters=1000` experiments and collect the mean and median of each sample."
   ]
  },
  {
   "cell_type": "code",
   "execution_count": 43,
   "metadata": {},
   "outputs": [
    {
     "name": "stdout",
     "output_type": "stream",
     "text": [
      "Experiment 1\n",
      "rmse xbar 0.3758823883522957\n",
      "rmse median 0.44747235779468375\n"
     ]
    }
   ],
   "source": [
    "import random\n",
    "\n",
    "def Estimate1(n=7, iters=1000):\n",
    "    \"\"\"Evaluates RMSE of sample mean and median as estimators.\n",
    "\n",
    "    n: sample size\n",
    "    iters: number of iterations\n",
    "    \"\"\"\n",
    "    mu = 0\n",
    "    sigma = 1\n",
    "\n",
    "    means = []\n",
    "    medians = []\n",
    "    for _ in range(iters):\n",
    "        xs = [random.gauss(mu, sigma) for _ in range(n)]\n",
    "        xbar = np.mean(xs)\n",
    "        median = np.median(xs)\n",
    "        means.append(xbar)\n",
    "        medians.append(median)\n",
    "\n",
    "    print('Experiment 1')\n",
    "    print('rmse xbar', RMSE(means, mu))\n",
    "    print('rmse median', RMSE(medians, mu))\n",
    "    \n",
    "Estimate1()"
   ]
  },
  {
   "cell_type": "markdown",
   "metadata": {},
   "source": [
    "Using $\\bar{x}$ to estimate the mean works a little better than using the median; in the long run, it minimizes RMSE.  But using the median is more robust in the presence of outliers or large errors.\n",
    "\n",
    "\n",
    "## Estimating variance\n",
    "\n",
    "The obvious way to estimate the variance of a population is to compute the variance of the sample, $S^2$, but that turns out to be a biased estimator; that is, in the long run, the average error doesn't converge to 0.\n",
    "\n",
    "The following function computes the mean error for a collection of estimates."
   ]
  },
  {
   "cell_type": "code",
   "execution_count": 44,
   "metadata": {},
   "outputs": [],
   "source": [
    "def MeanError(estimates, actual):\n",
    "    \"\"\"Computes the mean error of a sequence of estimates.\n",
    "\n",
    "    estimate: sequence of numbers\n",
    "    actual: actual value\n",
    "\n",
    "    returns: float mean error\n",
    "    \"\"\"\n",
    "    errors = [estimate-actual for estimate in estimates]\n",
    "    return np.mean(errors)"
   ]
  },
  {
   "cell_type": "markdown",
   "metadata": {},
   "source": [
    "The following function simulates experiments where we try to estimate the variance of a population based on a sample with size `n=7`.  We run `iters=1000` experiments and two estimates for each sample, $S^2$ and $S_{n-1}^2$."
   ]
  },
  {
   "cell_type": "code",
   "execution_count": 45,
   "metadata": {},
   "outputs": [
    {
     "name": "stdout",
     "output_type": "stream",
     "text": [
      "mean error biased -0.16137871901956513\n",
      "mean error unbiased -0.021608505522825963\n"
     ]
    }
   ],
   "source": [
    "def Estimate2(n=7, iters=1000):\n",
    "    mu = 0\n",
    "    sigma = 1\n",
    "\n",
    "    estimates1 = []\n",
    "    estimates2 = []\n",
    "    for _ in range(iters):\n",
    "        xs = [random.gauss(mu, sigma) for i in range(n)]\n",
    "        biased = np.var(xs)\n",
    "        unbiased = np.var(xs, ddof=1)\n",
    "        estimates1.append(biased)\n",
    "        estimates2.append(unbiased)\n",
    "\n",
    "    print('mean error biased', MeanError(estimates1, sigma**2))\n",
    "    print('mean error unbiased', MeanError(estimates2, sigma**2))\n",
    "    \n",
    "Estimate2()"
   ]
  },
  {
   "cell_type": "markdown",
   "metadata": {},
   "source": [
    "The mean error for $S^2$ is non-zero, which suggests that it is biased.  The mean error for $S_{n-1}^2$ is close to zero, and gets even smaller if we increase `iters`."
   ]
  },
  {
   "cell_type": "markdown",
   "metadata": {},
   "source": [
    "## The sampling distribution\n",
    "\n",
    "The following function simulates experiments where we estimate the mean of a population using $\\bar{x}$, and returns a list of estimates, one from each experiment."
   ]
  },
  {
   "cell_type": "code",
   "execution_count": 46,
   "metadata": {},
   "outputs": [],
   "source": [
    "def SimulateSample(mu=90, sigma=7.5, n=9, iters=1000):\n",
    "    xbars = []\n",
    "    for j in range(iters):\n",
    "        xs = np.random.normal(mu, sigma, n)\n",
    "        xbar = np.mean(xs)\n",
    "        xbars.append(xbar)\n",
    "    return xbars\n",
    "\n",
    "xbars = SimulateSample()"
   ]
  },
  {
   "cell_type": "markdown",
   "metadata": {},
   "source": [
    "Here's the \"sampling distribution of the mean\" which shows how much we should expect $\\bar{x}$ to vary from one experiment to the next."
   ]
  },
  {
   "cell_type": "code",
   "execution_count": 47,
   "metadata": {},
   "outputs": [
    {
     "data": {
      "text/plain": "<Figure size 432x288 with 1 Axes>",
      "image/png": "[encoded data removed]"
     },
     "metadata": {
      "needs_background": "light"
     },
     "output_type": "display_data"
    }
   ],
   "source": [
    "cdf = thinkstats2.Cdf(xbars)\n",
    "thinkplot.Cdf(cdf)\n",
    "thinkplot.Config(xlabel='Sample mean',\n",
    "                 ylabel='CDF')"
   ]
  },
  {
   "cell_type": "markdown",
   "metadata": {},
   "source": [
    "The mean of the sample means is close to the actual value of $\\mu$."
   ]
  },
  {
   "cell_type": "code",
   "execution_count": 48,
   "metadata": {},
   "outputs": [
    {
     "data": {
      "text/plain": "89.99384354858667"
     },
     "execution_count": 48,
     "metadata": {},
     "output_type": "execute_result"
    }
   ],
   "source": [
    "np.mean(xbars)"
   ]
  },
  {
   "cell_type": "markdown",
   "metadata": {},
   "source": [
    "An interval that contains 90% of the values in the sampling disrtribution is called a 90% confidence interval."
   ]
  },
  {
   "cell_type": "code",
   "execution_count": 49,
   "metadata": {},
   "outputs": [
    {
     "data": {
      "text/plain": "(86.03347962415961, 93.99969403453062)"
     },
     "execution_count": 49,
     "metadata": {},
     "output_type": "execute_result"
    }
   ],
   "source": [
    "ci = cdf.Percentile(5), cdf.Percentile(95)\n",
    "ci"
   ]
  },
  {
   "cell_type": "markdown",
   "metadata": {},
   "source": [
    "And the RMSE of the sample means is called the standard error."
   ]
  },
  {
   "cell_type": "code",
   "execution_count": 50,
   "metadata": {},
   "outputs": [
    {
     "data": {
      "text/plain": "2.5179188380256323"
     },
     "execution_count": 50,
     "metadata": {},
     "output_type": "execute_result"
    }
   ],
   "source": [
    "stderr = RMSE(xbars, 90)\n",
    "stderr"
   ]
  },
  {
   "cell_type": "markdown",
   "metadata": {},
   "source": [
    "Confidence intervals and standard errors quantify the variability in the estimate due to random sampling."
   ]
  },
  {
   "cell_type": "markdown",
   "metadata": {},
   "source": [
    "## Estimating rates\n",
    "\n",
    "The following function simulates experiments where we try to estimate the mean of an exponential distribution using the mean and median of a sample. "
   ]
  },
  {
   "cell_type": "code",
   "execution_count": 51,
   "metadata": {},
   "outputs": [
    {
     "name": "stdout",
     "output_type": "stream",
     "text": [
      "rmse L 1.0851168974143606\n",
      "rmse Lm 1.4873881147700632\n",
      "mean error L 0.3254591706469689\n",
      "mean error Lm 0.3620079967393187\n"
     ]
    }
   ],
   "source": [
    "def Estimate3(n=7, iters=1000):\n",
    "    lam = 2\n",
    "\n",
    "    means = []\n",
    "    medians = []\n",
    "    for _ in range(iters):\n",
    "        xs = np.random.exponential(1.0/lam, n)\n",
    "        L = 1 / np.mean(xs)\n",
    "        Lm = np.log(2) / thinkstats2.Median(xs)\n",
    "        means.append(L)\n",
    "        medians.append(Lm)\n",
    "\n",
    "    print('rmse L', RMSE(means, lam))\n",
    "    print('rmse Lm', RMSE(medians, lam))\n",
    "    print('mean error L', MeanError(means, lam))\n",
    "    print('mean error Lm', MeanError(medians, lam))\n",
    "    \n",
    "Estimate3()"
   ]
  },
  {
   "cell_type": "markdown",
   "metadata": {},
   "source": [
    "The RMSE is smaller for the sample mean than for the sample median.\n",
    "\n",
    "But neither estimator is unbiased."
   ]
  },
  {
   "cell_type": "markdown",
   "metadata": {},
   "source": [
    "## Exercises"
   ]
  },
  {
   "cell_type": "markdown",
   "metadata": {},
   "source": [
    "**Exercise:**  In this chapter we used $\\bar{x}$ and median to estimate µ, and found that $\\bar{x}$ yields lower MSE. Also, we used $S^2$ and $S_{n-1}^2$ to estimate σ, and found that $S^2$ is biased and $S_{n-1}^2$ unbiased.\n",
    "Run similar experiments to see if $\\bar{x}$ and median are biased estimates of µ. Also check whether $S^2$ or $S_{n-1}^2$ yields a lower MSE."
   ]
  },
  {
   "cell_type": "code",
   "execution_count": 52,
   "metadata": {},
   "outputs": [
    {
     "name": "stdout",
     "output_type": "stream",
     "text": [
      "Experiment 1\n",
      "mean error xbar -0.0009575016479079497\n",
      "mean error median 0.0003770912523766107\n"
     ]
    }
   ],
   "source": [
    "# Solution goes here\n",
    "## It looks like we are now doing more iterations I think this is leading\n",
    "## up to Central limit theorem ideas. As we increase the number of times\n",
    "## we pull samples we get less error and approach the Population mean.\n",
    "## As you can see here the error has decreased from when we did it with 1000.\n",
    "\n",
    "def Estimate4(n=7, iters=100000):\n",
    "    \"\"\"Mean error for xbar and median as estimators of population mean.\n",
    "\n",
    "    n: sample size\n",
    "    iters: number of iterations\n",
    "    \"\"\"\n",
    "    mu = 0\n",
    "    sigma = 1\n",
    "\n",
    "    means = []\n",
    "    medians = []\n",
    "    for _ in range(iters):\n",
    "        xs = [random.gauss(mu, sigma) for i in range(n)]\n",
    "        xbar = np.mean(xs)\n",
    "        median = np.median(xs)\n",
    "        means.append(xbar)\n",
    "        medians.append(median)\n",
    "\n",
    "    print('Experiment 1')\n",
    "    print('mean error xbar', MeanError(means, mu))\n",
    "    print('mean error median', MeanError(medians, mu))\n",
    "\n",
    "Estimate4()"
   ]
  },
  {
   "cell_type": "code",
   "execution_count": 53,
   "metadata": {},
   "outputs": [
    {
     "name": "stdout",
     "output_type": "stream",
     "text": [
      "Experiment 2\n",
      "RMSE biased 0.5142500320102037\n",
      "RMSE unbiased 0.5747469916981733\n"
     ]
    }
   ],
   "source": [
    "# Solution goes here\n",
    "# Same idea here we increase the number of iterations for the RMSE\n",
    "# Now we are seeing better results.\n",
    "# I was a little surprised by the complexity of the code in this section.\n",
    "# But I did understand why they did what they did.\n",
    "\n",
    "def Estimate5(n=7, iters=100000):\n",
    "    \"\"\"RMSE for biased and unbiased estimators of population variance.\n",
    "\n",
    "    n: sample size\n",
    "    iters: number of iterations\n",
    "    \"\"\"\n",
    "    mu = 0\n",
    "    sigma = 1\n",
    "\n",
    "    estimates1 = []\n",
    "    estimates2 = []\n",
    "    for _ in range(iters):\n",
    "        xs = [random.gauss(mu, sigma) for i in range(n)]\n",
    "        biased = np.var(xs)\n",
    "        unbiased = np.var(xs, ddof=1)\n",
    "        estimates1.append(biased)\n",
    "        estimates2.append(unbiased)\n",
    "\n",
    "    print('Experiment 2')\n",
    "    print('RMSE biased', RMSE(estimates1, sigma**2))\n",
    "    print('RMSE unbiased', RMSE(estimates2, sigma**2))\n",
    "\n",
    "Estimate5()"
   ]
  },
  {
   "cell_type": "code",
   "execution_count": 54,
   "metadata": {},
   "outputs": [
    {
     "data": {
      "text/plain": "\"\\nAt this point, I need to summarize what I have seen so far.\\nWe calculated the Root Mean Squared Error using 1000 iterations from a sample size of 7.\\n\\nExperiment 1\\nrmse xbar 0.3852090014216372\\nrmse median 0.47141645936452126\\n\\nSo the median is essential to know in the presence of outliers. Next we try and find the mean.\\nAgain 1000 iterations from a sample size of 7.\\n\\nEstimate 2\\nmean error biased -0.13667214416261209\\nmean error unbiased 0.007215831810285881\\n\\nWe are getting value for the mean error, so it must be biased.\\nWe find that after sampling many experiments that our estimate is close to the mean.\\nWe get\\n\\n90.12479133231862\\nThis value is relatively close to 90. I believe 90 was our expected value for the mean.\\nWe want to find out what values contain the inner 90% of our population. So we have to convert backward using cdf.Percentile We find that 90% of our population lives within the values.\\n\\n(86.05445221498364, 94.21231243509749)\\n\\nWe should also note that our root mean squared error was\\n2.5501015789281234\\n\\nI believe that means that our confidence interval can fluctuate based on RMSE error. So considering the extremes, it can vary by 2.55 around the above confidence interval constraints.\\n\\nAfter this, we switch to an exponential model to see if it fits our sample better.\\nAgain sample size of 7 with 1000 iterations.\\n\\nWe can immediately see some differences.\\nrmse L 1.094697043216661\\nrmse Lm 1.5163115276982715\\nmean error L 0.3123784427327108\\nmean error Lm 0.363589905934005\\n\\nThe root mean squared error goes down to 1.09 from our 2.55. The log mean is also a better estimate than our original CDF coming in at 1.51. But there is still error, and our estimator is still biased.\\nIdeally, we would try and get more samples, but sometimes we don’t have that option. So the next best thing is to use what we have and just do more testing with those values. So from here on out we will use 100000 iterations instead of 1000.\\n\\nExperiment 1 (Using more iterations.)\\nmean error xbar -0.0013416386830891623\\nmean error median -0.0013023511068377131\\n\\nThis out performed our previous results when we used 1000 iterations. (Old results shown here)\\nrmse xbar 0.3852090014216372\\nrmse median 0.47141645936452126\\n\\nThe strange this is the bias went up. This was unexpected. (Its possible I don't understand the results here.) Maybe because we only have 7 in our sample size we are creating more bias?\\n\\nExperiment 2\\nRMSE biased 0.5162074619740702\\nRMSE unbiased 0.57877153356287\\n\\nEstimate 2 (Old results)\\nmean error biased -0.13667214416261209\\nmean error unbiased 0.007215831810285881\\n\""
     },
     "execution_count": 54,
     "metadata": {},
     "output_type": "execute_result"
    }
   ],
   "source": [
    "'''\n",
    "(Results for 8-1)\n",
    "At this point, I need to summarize what I have seen so far.\n",
    "We calculated the Root Mean Squared Error using 1000 iterations from a sample size of 7.\n",
    "\n",
    "Experiment 1\n",
    "rmse xbar 0.3852090014216372\n",
    "rmse median 0.47141645936452126\n",
    "\n",
    "The median is essential to know in the presence of outliers. Next we try and find the mean.\n",
    "If the median matches the mean we would know that the distribution could be normal.\n",
    "\n",
    "Again 1000 iterations from a sample size of 7.\n",
    "\n",
    "Estimate 2\n",
    "mean error biased -0.13667214416261209\n",
    "mean error unbiased 0.007215831810285881\n",
    "\n",
    "We are getting rather large value for the mean error, so it must be biased. If it were less than .001 I would feel\n",
    "better about the error we are finding. The unbiased one is pretty decent lower than an alpha level of .05.\n",
    "We find that after sampling many experiments that our estimate is close to the mean.\n",
    "\n",
    "We get:\n",
    "90.12479133231862\n",
    "This value is relatively close to 90. I believe 90 was our expected value for the mean.\n",
    "We want to find out what values contain the inner 90% of our population. So we have to convert backward using cdf.Percentile We find that 90% of our population lives within the values.\n",
    "\n",
    "(86.05445221498364, 94.21231243509749)\n",
    "\n",
    "If our actual mean was 90 notice how we have captured it within our confidence interval. :)\n",
    "\n",
    "We should also note that our root mean squared error was\n",
    "2.5501015789281234\n",
    "\n",
    "I believe that means that our confidence interval can fluctuate based on RMSE error. So considering the extremes, it can vary by 2.55 around the above confidence interval constraints.\n",
    "\n",
    "After this, we switch to an exponential model to see if it fits our sample better.\n",
    "Again sample size of 7 with 1000 iterations.\n",
    "\n",
    "We can immediately see some differences.\n",
    "rmse L 1.094697043216661\n",
    "rmse Lm 1.5163115276982715\n",
    "mean error L 0.3123784427327108\n",
    "mean error Lm 0.363589905934005\n",
    "\n",
    "The root mean squared error goes down to 1.09 from our 2.55. The log mean is also a better estimate than our original CDF coming in at 1.51. But there is still error, and our estimator is still biased.\n",
    "Ideally, we would try and get more samples, but sometimes we don’t have that option. So the next best thing is to use what we have and just do more testing with those values. So from here on out we will use 100000 iterations instead of 1000.\n",
    "\n",
    "Experiment 1 (Using more iterations.)\n",
    "mean error xbar -0.0013416386830891623\n",
    "mean error median -0.0013023511068377131\n",
    "\n",
    "This out performed our previous results when we used 1000 iterations. (Old results shown here)\n",
    "rmse xbar 0.3852090014216372\n",
    "rmse median 0.47141645936452126\n",
    "\n",
    "The strange this is the bias went up. This was unexpected. (Its possible I don't understand the results here.) Maybe because we only have 7 in our sample size we are creating more bias?\n",
    "\n",
    "Experiment 2\n",
    "RMSE biased 0.5162074619740702\n",
    "RMSE unbiased 0.57877153356287\n",
    "\n",
    "Estimate 2 (Old results)\n",
    "mean error biased -0.13667214416261209\n",
    "mean error unbiased 0.007215831810285881\n",
    "'''\n",
    "# Solution goes here"
   ]
  },
  {
   "cell_type": "markdown",
   "metadata": {},
   "source": [
    "**Exercise:** Suppose you draw a sample with size n=10 from an exponential distribution with λ=2. Simulate this experiment 1000 times and plot the sampling distribution of the estimate L. Compute the standard error of the estimate and the 90% confidence interval.\n",
    "\n",
    "Repeat the experiment with a few different values of `n` and make a plot of standard error versus `n`.\n",
    "\n"
   ]
  },
  {
   "cell_type": "code",
   "execution_count": 57,
   "metadata": {},
   "outputs": [
    {
     "name": "stdout",
     "output_type": "stream",
     "text": [
      "standard error 0.798468417618218\n",
      "confidence interval (1.252006106568527, 3.6672288013764187)\n",
      "standard error 0.21251840983364487\n",
      "confidence interval (1.7195548388007402, 2.390962077538483)\n",
      "standard error 0.06457437374553801\n",
      "confidence interval (1.8966540463994075, 2.1086456154424384)\n"
     ]
    },
    {
     "data": {
      "text/plain": "0.06457437374553801"
     },
     "execution_count": 57,
     "metadata": {},
     "output_type": "execute_result"
    },
    {
     "data": {
      "text/plain": "<Figure size 432x288 with 1 Axes>",
      "image/png": "[encoded data removed]"
     },
     "metadata": {
      "needs_background": "light"
     },
     "output_type": "display_data"
    }
   ],
   "source": [
    "# This starts the results for 8-2 (trying to make it easier to grade)\n",
    "## now we are going to try an exponential distribution with a lambda of 2. Also notable we are increasing our sample size to 10. But we will iterate 1000 times.\n",
    "# Solution goes here\n",
    "def SimulateSample(lam=2, n=10, iters=1000):\n",
    "    \"\"\"Sampling distribution of L as an estimator of exponential parameter.\n",
    "\n",
    "    lam: parameter of an exponential distribution\n",
    "    n: sample size\n",
    "    iters: number of iterations\n",
    "    \"\"\"\n",
    "    def VertLine(x, y=1):\n",
    "        thinkplot.Plot([x, x], [0, y], color='0.8', linewidth=3)\n",
    "\n",
    "    estimates = []\n",
    "    for _ in range(iters):\n",
    "        xs = np.random.exponential(1.0/lam, n)\n",
    "        lamhat = 1.0 / np.mean(xs)\n",
    "        estimates.append(lamhat)\n",
    "\n",
    "    stderr = RMSE(estimates, lam)\n",
    "    print('standard error', stderr)\n",
    "\n",
    "    cdf = thinkstats2.Cdf(estimates)\n",
    "    ci = cdf.Percentile(5), cdf.Percentile(95)\n",
    "    print('confidence interval', ci)\n",
    "    VertLine(ci[0])\n",
    "    VertLine(ci[1])\n",
    "\n",
    "    # plot the CDF\n",
    "    thinkplot.Cdf(cdf)\n",
    "    thinkplot.Config(xlabel='estimate',\n",
    "                     ylabel='CDF',\n",
    "                     title='Sampling distribution')\n",
    "\n",
    "    return stderr\n",
    "\n",
    "SimulateSample()\n",
    "\n",
    "#Checking the CI when n = 100\n",
    "SimulateSample(lam=2, n=100, iters=1000)\n",
    "\n",
    "# Checking the CI when n = 1000\n",
    "SimulateSample(lam=2, n=1000, iters=1000)\n",
    "\n",
    "# Note you can see how the intervals change in the graph the graph gets narrower\n",
    "# as we increase the number of samples.\n",
    "# my graph includes n = 100 and n = 1000.\n",
    "# You can remove the above two lines to make it look like the solution manual if you want."
   ]
  },
  {
   "cell_type": "code",
   "execution_count": 16,
   "metadata": {},
   "outputs": [],
   "source": [
    "'''\n",
    "(More results for 8-2) More will follow at the end of the code.\n",
    "\n",
    "Very cool above I believed that the error would come down if we increased our sample size n. Its cool to\n",
    "see that confirmed.\n",
    "\n",
    "Both the standard error and the confidence interval goes down. I belive that the confidence interval\n",
    "is used to try and capture the population mean without polling every single member of the population.\n",
    "\n",
    "Its like it is honing in on that mean. (We are 90% confident that our population mean lives within these values.)\n",
    "\n",
    "The author states that the actual value is 2 so you can see that it is within this interval in all of the cases below.\n",
    "\n",
    "n = 10 iterations = 1000\n",
    "standard error 0.798468417618218\n",
    "confidence interval (1.252006106568527, 3.6672288013764187)\n",
    "\n",
    "n = 100 iterations = 1000\n",
    "standard error 0.21251840983364487\n",
    "confidence interval (1.7195548388007402, 2.390962077538483)\n",
    "\n",
    "n = 1000 iterations = 1000\n",
    "standard error 0.06457437374553801\n",
    "confidence interval (1.8966540463994075, 2.1086456154424384)\n",
    "\n",
    "As you can see it is getting closer and closer to the actual value of 2 as n increases.\n",
    "Also again our CI is capturing the actual value of 2.\n",
    "'''\n"
   ]
  },
  {
   "cell_type": "markdown",
   "metadata": {},
   "source": [
    "**Exercise:** In games like hockey and soccer, the time between goals is roughly exponential. So you could estimate a team’s goal-scoring rate by observing the number of goals they score in a game. This estimation process is a little different from sampling the time between goals, so let’s see how it works.\n",
    "\n",
    "Write a function that takes a goal-scoring rate, `lam`, in goals per game, and simulates a game by generating the time between goals until the total time exceeds 1 game, then returns the number of goals scored.\n",
    "\n",
    "Write another function that simulates many games, stores the estimates of `lam`, then computes their mean error and RMSE.\n",
    "\n",
    "Is this way of making an estimate biased?"
   ]
  },
  {
   "cell_type": "code",
   "execution_count": 58,
   "metadata": {},
   "outputs": [],
   "source": [
    "def SimulateGame(lam):\n",
    "    \"\"\"Simulates a game and returns the estimated goal-scoring rate.\n",
    "\n",
    "    lam: actual goal scoring rate in goals per game\n",
    "    \"\"\"\n",
    "    goals = 0\n",
    "    t = 0\n",
    "    while True:\n",
    "        time_between_goals = random.expovariate(lam)\n",
    "        t += time_between_goals\n",
    "        if t > 1:\n",
    "            break\n",
    "        goals += 1\n",
    "\n",
    "    # estimated goal-scoring rate is the actual number of goals scored\n",
    "    L = goals\n",
    "    return L"
   ]
  },
  {
   "cell_type": "code",
   "execution_count": 59,
   "metadata": {},
   "outputs": [],
   "source": [
    "def SimulateGame(lam):\n",
    "    \"\"\"Simulates a game and returns the estimated goal-scoring rate.\n",
    "\n",
    "    lam: actual goal scoring rate in goals per game\n",
    "    \"\"\"\n",
    "    goals = 0\n",
    "    t = 0\n",
    "    while True:\n",
    "        time_between_goals = random.expovariate(lam)\n",
    "        t += time_between_goals\n",
    "        if t > 1:\n",
    "            break\n",
    "        goals += 1\n",
    "\n",
    "    # estimated goal-scoring rate is the actual number of goals scored\n",
    "    L = goals\n",
    "    return L\n",
    "# Solution goes here"
   ]
  },
  {
   "cell_type": "code",
   "execution_count": 60,
   "metadata": {},
   "outputs": [
    {
     "name": "stdout",
     "output_type": "stream",
     "text": [
      "Experiment 4\n",
      "rmse L 1.4143659356757712\n",
      "mean error L -0.000221\n"
     ]
    },
    {
     "data": {
      "text/plain": "<Figure size 432x288 with 1 Axes>",
      "image/png": "[encoded data removed]"
     },
     "metadata": {
      "needs_background": "light"
     },
     "output_type": "display_data"
    }
   ],
   "source": [
    "def Estimate6(lam=2, m=1000000):\n",
    "\n",
    "    estimates = []\n",
    "    for i in range(m):\n",
    "        L = SimulateGame(lam)\n",
    "        estimates.append(L)\n",
    "\n",
    "    print('Experiment 4')\n",
    "    print('rmse L', RMSE(estimates, lam))\n",
    "    print('mean error L', MeanError(estimates, lam))\n",
    "\n",
    "    pmf = thinkstats2.Pmf(estimates)\n",
    "    thinkplot.Hist(pmf)\n",
    "    thinkplot.Config(xlabel='Goals scored', ylabel='PMF')\n",
    "\n",
    "Estimate6()\n",
    "# Solution goes here"
   ]
  },
  {
   "cell_type": "code",
   "execution_count": null,
   "metadata": {},
   "outputs": [],
   "source": [
    "# (Final Results for 8-2)\n",
    "## Interesting so we found an RMSE 1.4143659356757712\n",
    "# This means that we are interested in the average time it takes to score a goal.\n",
    "# I feel that this is pretty unbiased since our standard error is small.\n",
    "# -0.000221 is smaller than a p-value of .001. So I would be confident with these results.\n",
    "# (Nice the solution manual confirmed this. I always try and come up with my conclusions before I read the authors.)\n",
    "# Above we used random.expovariate to build our distribution.\n",
    "#from the python documentation that makes total sense because we were looking for an exponential distribution.\n",
    "# Exponential distribution. lambd is 1.0 divided by the desired mean. It should be nonzero. (The parameter would be called “lambda”, but that is a reserved word in Python.) Returned values range from 0 to positive infinity if lambd is positive, and from negative infinity to 0 if lambd is negative.\n",
    "# I read up on Poisson and its interesting. I think what the author is trying to tell me is.\n",
    "# Since we believe in our exponential results we can also infer that the average time for goals wont change.\n",
    "# The wiki that the author suggested gave a scenario that talked about independance of events following an exponential distribution.\n",
    "'''\n",
    "(From the wiki)\n",
    "An individual keeping track of the amount of mail they receive each day may notice that they receive an\n",
    "average number of 4 letters per day. If receiving any particular piece of mail does not affect the arrival times of\n",
    "future pieces of mail, i.e., if pieces of mail from a wide range of sources arrive independently of one another,\n",
    "then a reasonable assumption is that the number of pieces of mail received in a day obeys a Poisson distribution.\n",
    "'''\n",
    "# This means that since goals scored are independent events meaning that one score does not influence the next.\n",
    "# Since our data was built on an exponential distribution we can say that it follows the same rules as a poisson distribution.\n",
    "# I did wonder about a few things though considering the histogram of the PMF. You can see that it looks to be skewed right.\n",
    "# Does this matter to us should we be seeing if it looks more normal if we were to apply a log function? Or is the only goal\n",
    "# to capture the mean?\n",
    "\n"
   ]
  }
 ],
 "metadata": {
  "kernelspec": {
   "display_name": "Python 3",
   "language": "python",
   "name": "python3"
  },
  "language_info": {
   "codemirror_mode": {
    "name": "ipython",
    "version": 3
   },
   "file_extension": ".py",
   "mimetype": "text/x-python",
   "name": "python",
   "nbconvert_exporter": "python",
   "pygments_lexer": "ipython3",
   "version": "3.6.6"
  }
 },
 "nbformat": 4,
 "nbformat_minor": 1
}