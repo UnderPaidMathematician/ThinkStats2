{
 "cells": [
  {
   "cell_type": "markdown",
   "metadata": {},
   "source": [
    "# Examples and Exercises from Think Stats, 2nd Edition\n",
    "\n",
    "http://thinkstats2.com\n",
    "\n",
    "Copyright 2016 Allen B. Downey\n",
    "\n",
    "MIT License: https://opensource.org/licenses/MIT\n"
   ]
  },
  {
   "cell_type": "code",
   "execution_count": 1,
   "metadata": {},
   "outputs": [],
   "source": [
    "from __future__ import print_function, division\n",
    "import math\n",
    "\n",
    "import nsfg"
   ]
  },
  {
   "cell_type": "markdown",
   "metadata": {},
   "source": [
    "## Examples from Chapter 1\n",
    "\n",
    "Read NSFG data into a Pandas DataFrame."
   ]
  },
  {
   "cell_type": "code",
   "execution_count": 2,
   "metadata": {},
   "outputs": [
    {
     "data": {
      "text/plain": "   caseid  pregordr  howpreg_n  howpreg_p  moscurrp  nowprgdk  pregend1  \\\n0       1         1        NaN        NaN       NaN       NaN       6.0   \n1       1         2        NaN        NaN       NaN       NaN       6.0   \n2       2         1        NaN        NaN       NaN       NaN       5.0   \n3       2         2        NaN        NaN       NaN       NaN       6.0   \n4       2         3        NaN        NaN       NaN       NaN       6.0   \n\n   pregend2  nbrnaliv  multbrth  ...  laborfor_i  religion_i  metro_i  \\\n0       NaN       1.0       NaN  ...           0           0        0   \n1       NaN       1.0       NaN  ...           0           0        0   \n2       NaN       3.0       5.0  ...           0           0        0   \n3       NaN       1.0       NaN  ...           0           0        0   \n4       NaN       1.0       NaN  ...           0           0        0   \n\n       basewgt  adj_mod_basewgt      finalwgt  secu_p  sest  cmintvw  \\\n0  3410.389399      3869.349602   6448.271112       2     9      NaN   \n1  3410.389399      3869.349602   6448.271112       2     9      NaN   \n2  7226.301740      8567.549110  12999.542264       2    12      NaN   \n3  7226.301740      8567.549110  12999.542264       2    12      NaN   \n4  7226.301740      8567.549110  12999.542264       2    12      NaN   \n\n   totalwgt_lb  \n0       8.8125  \n1       7.8750  \n2       9.1250  \n3       7.0000  \n4       6.1875  \n\n[5 rows x 244 columns]",
      "text/html": "<div>\n<style scoped>\n    .dataframe tbody tr th:only-of-type {\n        vertical-align: middle;\n    }\n\n    .dataframe tbody tr th {\n        vertical-align: top;\n    }\n\n    .dataframe thead th {\n        text-align: right;\n    }\n</style>\n<table border=\"1\" class=\"dataframe\">\n  <thead>\n    <tr style=\"text-align: right;\">\n      <th></th>\n      <th>caseid</th>\n      <th>pregordr</th>\n      <th>howpreg_n</th>\n      <th>howpreg_p</th>\n      <th>moscurrp</th>\n      <th>nowprgdk</th>\n      <th>pregend1</th>\n      <th>pregend2</th>\n      <th>nbrnaliv</th>\n      <th>multbrth</th>\n      <th>...</th>\n      <th>laborfor_i</th>\n      <th>religion_i</th>\n      <th>metro_i</th>\n      <th>basewgt</th>\n      <th>adj_mod_basewgt</th>\n      <th>finalwgt</th>\n      <th>secu_p</th>\n      <th>sest</th>\n      <th>cmintvw</th>\n      <th>totalwgt_lb</th>\n    </tr>\n  </thead>\n  <tbody>\n    <tr>\n      <th>0</th>\n      <td>1</td>\n      <td>1</td>\n      <td>NaN</td>\n      <td>NaN</td>\n      <td>NaN</td>\n      <td>NaN</td>\n      <td>6.0</td>\n      <td>NaN</td>\n      <td>1.0</td>\n      <td>NaN</td>\n      <td>...</td>\n      <td>0</td>\n      <td>0</td>\n      <td>0</td>\n      <td>3410.389399</td>\n      <td>3869.349602</td>\n      <td>6448.271112</td>\n      <td>2</td>\n      <td>9</td>\n      <td>NaN</td>\n      <td>8.8125</td>\n    </tr>\n    <tr>\n      <th>1</th>\n      <td>1</td>\n      <td>2</td>\n      <td>NaN</td>\n      <td>NaN</td>\n      <td>NaN</td>\n      <td>NaN</td>\n      <td>6.0</td>\n      <td>NaN</td>\n      <td>1.0</td>\n      <td>NaN</td>\n      <td>...</td>\n      <td>0</td>\n      <td>0</td>\n      <td>0</td>\n      <td>3410.389399</td>\n      <td>3869.349602</td>\n      <td>6448.271112</td>\n      <td>2</td>\n      <td>9</td>\n      <td>NaN</td>\n      <td>7.8750</td>\n    </tr>\n    <tr>\n      <th>2</th>\n      <td>2</td>\n      <td>1</td>\n      <td>NaN</td>\n      <td>NaN</td>\n      <td>NaN</td>\n      <td>NaN</td>\n      <td>5.0</td>\n      <td>NaN</td>\n      <td>3.0</td>\n      <td>5.0</td>\n      <td>...</td>\n      <td>0</td>\n      <td>0</td>\n      <td>0</td>\n      <td>7226.301740</td>\n      <td>8567.549110</td>\n      <td>12999.542264</td>\n      <td>2</td>\n      <td>12</td>\n      <td>NaN</td>\n      <td>9.1250</td>\n    </tr>\n    <tr>\n      <th>3</th>\n      <td>2</td>\n      <td>2</td>\n      <td>NaN</td>\n      <td>NaN</td>\n      <td>NaN</td>\n      <td>NaN</td>\n      <td>6.0</td>\n      <td>NaN</td>\n      <td>1.0</td>\n      <td>NaN</td>\n      <td>...</td>\n      <td>0</td>\n      <td>0</td>\n      <td>0</td>\n      <td>7226.301740</td>\n      <td>8567.549110</td>\n      <td>12999.542264</td>\n      <td>2</td>\n      <td>12</td>\n      <td>NaN</td>\n      <td>7.0000</td>\n    </tr>\n    <tr>\n      <th>4</th>\n      <td>2</td>\n      <td>3</td>\n      <td>NaN</td>\n      <td>NaN</td>\n      <td>NaN</td>\n      <td>NaN</td>\n      <td>6.0</td>\n      <td>NaN</td>\n      <td>1.0</td>\n      <td>NaN</td>\n      <td>...</td>\n      <td>0</td>\n      <td>0</td>\n      <td>0</td>\n      <td>7226.301740</td>\n      <td>8567.549110</td>\n      <td>12999.542264</td>\n      <td>2</td>\n      <td>12</td>\n      <td>NaN</td>\n      <td>6.1875</td>\n    </tr>\n  </tbody>\n</table>\n<p>5 rows × 244 columns</p>\n</div>"
     },
     "execution_count": 2,
     "metadata": {},
     "output_type": "execute_result"
    }
   ],
   "source": [
    "preg = nsfg.ReadFemPreg()\n",
    "preg.head()"
   ]
  },
  {
   "cell_type": "markdown",
   "metadata": {},
   "source": [
    "Print the column names."
   ]
  },
  {
   "cell_type": "code",
   "execution_count": 3,
   "metadata": {},
   "outputs": [
    {
     "data": {
      "text/plain": "Index(['caseid', 'pregordr', 'howpreg_n', 'howpreg_p', 'moscurrp', 'nowprgdk',\n       'pregend1', 'pregend2', 'nbrnaliv', 'multbrth',\n       ...\n       'laborfor_i', 'religion_i', 'metro_i', 'basewgt', 'adj_mod_basewgt',\n       'finalwgt', 'secu_p', 'sest', 'cmintvw', 'totalwgt_lb'],\n      dtype='object', length=244)"
     },
     "execution_count": 3,
     "metadata": {},
     "output_type": "execute_result"
    }
   ],
   "source": [
    "preg.columns"
   ]
  },
  {
   "cell_type": "markdown",
   "metadata": {},
   "source": [
    "Select a single column name."
   ]
  },
  {
   "cell_type": "code",
   "execution_count": 4,
   "metadata": {},
   "outputs": [
    {
     "data": {
      "text/plain": "'pregordr'"
     },
     "execution_count": 4,
     "metadata": {},
     "output_type": "execute_result"
    }
   ],
   "source": [
    "preg.columns[1]"
   ]
  },
  {
   "cell_type": "markdown",
   "metadata": {},
   "source": [
    "Select a column and check what type it is."
   ]
  },
  {
   "cell_type": "code",
   "execution_count": 5,
   "metadata": {},
   "outputs": [
    {
     "data": {
      "text/plain": "pandas.core.series.Series"
     },
     "execution_count": 5,
     "metadata": {},
     "output_type": "execute_result"
    }
   ],
   "source": [
    "pregordr = preg['pregordr']\n",
    "type(pregordr)"
   ]
  },
  {
   "cell_type": "markdown",
   "metadata": {},
   "source": [
    "Print a column."
   ]
  },
  {
   "cell_type": "code",
   "execution_count": 6,
   "metadata": {},
   "outputs": [
    {
     "data": {
      "text/plain": "0        1\n1        2\n2        1\n3        2\n4        3\n        ..\n13588    1\n13589    2\n13590    3\n13591    4\n13592    5\nName: pregordr, Length: 13593, dtype: int64"
     },
     "execution_count": 6,
     "metadata": {},
     "output_type": "execute_result"
    }
   ],
   "source": [
    "pregordr"
   ]
  },
  {
   "cell_type": "markdown",
   "metadata": {},
   "source": [
    "Select a single element from a column."
   ]
  },
  {
   "cell_type": "code",
   "execution_count": 7,
   "metadata": {},
   "outputs": [
    {
     "data": {
      "text/plain": "1"
     },
     "execution_count": 7,
     "metadata": {},
     "output_type": "execute_result"
    }
   ],
   "source": [
    "pregordr[0]"
   ]
  },
  {
   "cell_type": "markdown",
   "metadata": {},
   "source": [
    "Select a slice from a column."
   ]
  },
  {
   "cell_type": "code",
   "execution_count": 8,
   "metadata": {},
   "outputs": [
    {
     "data": {
      "text/plain": "2    1\n3    2\n4    3\nName: pregordr, dtype: int64"
     },
     "execution_count": 8,
     "metadata": {},
     "output_type": "execute_result"
    }
   ],
   "source": [
    "pregordr[2:5]"
   ]
  },
  {
   "cell_type": "markdown",
   "metadata": {},
   "source": [
    "Select a column using dot notation."
   ]
  },
  {
   "cell_type": "code",
   "execution_count": 9,
   "metadata": {},
   "outputs": [],
   "source": [
    "pregordr = preg.pregordr"
   ]
  },
  {
   "cell_type": "markdown",
   "metadata": {},
   "source": [
    "Count the number of times each value occurs."
   ]
  },
  {
   "cell_type": "code",
   "execution_count": 10,
   "metadata": {},
   "outputs": [
    {
     "data": {
      "text/plain": "1    9148\n2    1862\n3     120\n4    1921\n5     190\n6     352\nName: outcome, dtype: int64"
     },
     "execution_count": 10,
     "metadata": {},
     "output_type": "execute_result"
    }
   ],
   "source": [
    "preg.outcome.value_counts().sort_index()"
   ]
  },
  {
   "cell_type": "markdown",
   "metadata": {},
   "source": [
    "Check the values of another variable."
   ]
  },
  {
   "cell_type": "code",
   "execution_count": 11,
   "metadata": {},
   "outputs": [
    {
     "data": {
      "text/plain": "0.0        8\n1.0       40\n2.0       53\n3.0       98\n4.0      229\n5.0      697\n6.0     2223\n7.0     3049\n8.0     1889\n9.0      623\n10.0     132\n11.0      26\n12.0      10\n13.0       3\n14.0       3\n15.0       1\nName: birthwgt_lb, dtype: int64"
     },
     "execution_count": 11,
     "metadata": {},
     "output_type": "execute_result"
    }
   ],
   "source": [
    "preg.birthwgt_lb.value_counts().sort_index()"
   ]
  },
  {
   "cell_type": "markdown",
   "metadata": {},
   "source": [
    "Make a dictionary that maps from each respondent's `caseid` to a list of indices into the pregnancy `DataFrame`.  Use it to select the pregnancy outcomes for a single respondent."
   ]
  },
  {
   "cell_type": "code",
   "execution_count": 12,
   "metadata": {},
   "outputs": [
    {
     "data": {
      "text/plain": "array([4, 4, 4, 4, 4, 4, 1], dtype=int64)"
     },
     "execution_count": 12,
     "metadata": {},
     "output_type": "execute_result"
    }
   ],
   "source": [
    "caseid = 10229\n",
    "preg_map = nsfg.MakePregMap(preg)\n",
    "indices = preg_map[caseid]\n",
    "preg.outcome[indices].values"
   ]
  },
  {
   "cell_type": "markdown",
   "metadata": {},
   "source": [
    "## Exercises"
   ]
  },
  {
   "cell_type": "markdown",
   "metadata": {},
   "source": [
    "Select the `birthord` column, print the value counts, and compare to results published in the [codebook](http://www.icpsr.umich.edu/nsfg6/Controller?displayPage=labelDetails&fileCode=PREG&section=A&subSec=8016&srtLabel=611933)"
   ]
  },
  {
   "cell_type": "code",
   "execution_count": 13,
   "metadata": {},
   "outputs": [
    {
     "data": {
      "text/plain": "1.0     4413\n2.0     2874\n3.0     1234\n4.0      421\n5.0      126\n6.0       50\n7.0       20\n8.0        7\n9.0        2\n10.0       1\nName: birthord, dtype: int64"
     },
     "execution_count": 13,
     "metadata": {},
     "output_type": "execute_result"
    }
   ],
   "source": [
    "preg['birthord'].value_counts().sort_index()"
   ]
  },
  {
   "cell_type": "markdown",
   "metadata": {},
   "source": [
    "We can also use `isnull` to count the number of nans."
   ]
  },
  {
   "cell_type": "code",
   "execution_count": 14,
   "metadata": {},
   "outputs": [
    {
     "data": {
      "text/plain": "4445"
     },
     "execution_count": 14,
     "metadata": {},
     "output_type": "execute_result"
    }
   ],
   "source": [
    "preg.birthord.isnull().sum()"
   ]
  },
  {
   "cell_type": "markdown",
   "metadata": {},
   "source": [
    "Select the `prglngth` column, print the value counts, and compare to results published in the [codebook](http://www.icpsr.umich.edu/nsfg6/Controller?displayPage=labelDetails&fileCode=PREG&section=A&subSec=8016&srtLabel=611931)"
   ]
  },
  {
   "cell_type": "code",
   "execution_count": 15,
   "metadata": {},
   "outputs": [
    {
     "data": {
      "text/plain": "0        39\n1        39\n2        39\n3        39\n4        39\n         ..\n13588    39\n13589     6\n13590     5\n13591    39\n13592    39\nName: prglngth, Length: 13593, dtype: int64"
     },
     "execution_count": 15,
     "metadata": {},
     "output_type": "execute_result"
    }
   ],
   "source": [
    "preg['prglngth']"
   ]
  },
  {
   "cell_type": "markdown",
   "metadata": {
    "pycharm": {
     "name": "#%% md\n"
    }
   },
   "source": [
    "To compute the mean of a column, you can invoke the `mean` method on a Series.  For example, here is the mean birthweight in pounds:"
   ]
  },
  {
   "cell_type": "code",
   "execution_count": 16,
   "metadata": {
    "pycharm": {
     "name": "#%%\n"
    }
   },
   "outputs": [
    {
     "data": {
      "text/plain": "7.265628457623368"
     },
     "execution_count": 16,
     "metadata": {},
     "output_type": "execute_result"
    }
   ],
   "source": [
    "preg.totalwgt_lb.mean()"
   ]
  },
  {
   "cell_type": "markdown",
   "metadata": {
    "pycharm": {
     "name": "#%% md\n"
    }
   },
   "source": [
    "Create a new column named <tt>totalwgt_kg</tt> that contains birth weight in kilograms.  Compute its mean.  Remember that when you create a new column, you have to use dictionary syntax, not dot notation."
   ]
  },
  {
   "cell_type": "code",
   "execution_count": 17,
   "metadata": {
    "pycharm": {
     "name": "#%%\n"
    }
   },
   "outputs": [],
   "source": [
    "preg['totalwgt_kg'] = preg['totalwgt_lb']*0.453592"
   ]
  },
  {
   "cell_type": "code",
   "execution_count": 18,
   "metadata": {},
   "outputs": [
    {
     "data": {
      "text/plain": "0        3.997279\n1        3.572037\n2        4.139027\n3        3.175144\n4        2.806601\n           ...   \n13588    2.806601\n13589         NaN\n13590         NaN\n13591    3.401940\n13592    3.401940\nName: totalwgt_kg, Length: 13593, dtype: float64"
     },
     "execution_count": 18,
     "metadata": {},
     "output_type": "execute_result"
    }
   ],
   "source": [
    "preg['totalwgt_kg']"
   ]
  },
  {
   "cell_type": "markdown",
   "metadata": {},
   "source": [
    "`nsfg.py` also provides `ReadFemResp`, which reads the female respondents file and returns a `DataFrame`:"
   ]
  },
  {
   "cell_type": "code",
   "execution_count": 19,
   "metadata": {},
   "outputs": [],
   "source": [
    "resp = nsfg.ReadFemResp()"
   ]
  },
  {
   "cell_type": "markdown",
   "metadata": {},
   "source": [
    "`DataFrame` provides a method `head` that displays the first five rows:"
   ]
  },
  {
   "cell_type": "code",
   "execution_count": 20,
   "metadata": {},
   "outputs": [
    {
     "data": {
      "text/plain": "   caseid  rscrinf  rdormres  rostscrn  rscreenhisp  rscreenrace  age_a  \\\n0    2298        1         5         5            1          5.0     27   \n1    5012        1         5         1            5          5.0     42   \n2   11586        1         5         1            5          5.0     43   \n3    6794        5         5         4            1          5.0     15   \n4     616        1         5         4            1          5.0     20   \n\n   age_r  cmbirth  agescrn  ...  pubassis_i      basewgt  adj_mod_basewgt  \\\n0     27      902       27  ...           0  3247.916977      5123.759559   \n1     42      718       42  ...           0  2335.279149      2846.799490   \n2     43      708       43  ...           0  2335.279149      2846.799490   \n3     15     1042       15  ...           0  3783.152221      5071.464231   \n4     20      991       20  ...           0  5341.329968      6437.335772   \n\n      finalwgt  secu_r  sest  cmintvw  cmlstyr  screentime   intvlngth  \n0  5556.717241       2    18     1234     1222    18:26:36  110.492667  \n1  4744.191350       2    18     1233     1221    16:30:59   64.294000  \n2  4744.191350       2    18     1234     1222    18:19:09   75.149167  \n3  5923.977368       2    18     1234     1222    15:54:43   28.642833  \n4  7229.128072       2    18     1233     1221    14:19:44   69.502667  \n\n[5 rows x 3087 columns]",
      "text/html": "<div>\n<style scoped>\n    .dataframe tbody tr th:only-of-type {\n        vertical-align: middle;\n    }\n\n    .dataframe tbody tr th {\n        vertical-align: top;\n    }\n\n    .dataframe thead th {\n        text-align: right;\n    }\n</style>\n<table border=\"1\" class=\"dataframe\">\n  <thead>\n    <tr style=\"text-align: right;\">\n      <th></th>\n      <th>caseid</th>\n      <th>rscrinf</th>\n      <th>rdormres</th>\n      <th>rostscrn</th>\n      <th>rscreenhisp</th>\n      <th>rscreenrace</th>\n      <th>age_a</th>\n      <th>age_r</th>\n      <th>cmbirth</th>\n      <th>agescrn</th>\n      <th>...</th>\n      <th>pubassis_i</th>\n      <th>basewgt</th>\n      <th>adj_mod_basewgt</th>\n      <th>finalwgt</th>\n      <th>secu_r</th>\n      <th>sest</th>\n      <th>cmintvw</th>\n      <th>cmlstyr</th>\n      <th>screentime</th>\n      <th>intvlngth</th>\n    </tr>\n  </thead>\n  <tbody>\n    <tr>\n      <th>0</th>\n      <td>2298</td>\n      <td>1</td>\n      <td>5</td>\n      <td>5</td>\n      <td>1</td>\n      <td>5.0</td>\n      <td>27</td>\n      <td>27</td>\n      <td>902</td>\n      <td>27</td>\n      <td>...</td>\n      <td>0</td>\n      <td>3247.916977</td>\n      <td>5123.759559</td>\n      <td>5556.717241</td>\n      <td>2</td>\n      <td>18</td>\n      <td>1234</td>\n      <td>1222</td>\n      <td>18:26:36</td>\n      <td>110.492667</td>\n    </tr>\n    <tr>\n      <th>1</th>\n      <td>5012</td>\n      <td>1</td>\n      <td>5</td>\n      <td>1</td>\n      <td>5</td>\n      <td>5.0</td>\n      <td>42</td>\n      <td>42</td>\n      <td>718</td>\n      <td>42</td>\n      <td>...</td>\n      <td>0</td>\n      <td>2335.279149</td>\n      <td>2846.799490</td>\n      <td>4744.191350</td>\n      <td>2</td>\n      <td>18</td>\n      <td>1233</td>\n      <td>1221</td>\n      <td>16:30:59</td>\n      <td>64.294000</td>\n    </tr>\n    <tr>\n      <th>2</th>\n      <td>11586</td>\n      <td>1</td>\n      <td>5</td>\n      <td>1</td>\n      <td>5</td>\n      <td>5.0</td>\n      <td>43</td>\n      <td>43</td>\n      <td>708</td>\n      <td>43</td>\n      <td>...</td>\n      <td>0</td>\n      <td>2335.279149</td>\n      <td>2846.799490</td>\n      <td>4744.191350</td>\n      <td>2</td>\n      <td>18</td>\n      <td>1234</td>\n      <td>1222</td>\n      <td>18:19:09</td>\n      <td>75.149167</td>\n    </tr>\n    <tr>\n      <th>3</th>\n      <td>6794</td>\n      <td>5</td>\n      <td>5</td>\n      <td>4</td>\n      <td>1</td>\n      <td>5.0</td>\n      <td>15</td>\n      <td>15</td>\n      <td>1042</td>\n      <td>15</td>\n      <td>...</td>\n      <td>0</td>\n      <td>3783.152221</td>\n      <td>5071.464231</td>\n      <td>5923.977368</td>\n      <td>2</td>\n      <td>18</td>\n      <td>1234</td>\n      <td>1222</td>\n      <td>15:54:43</td>\n      <td>28.642833</td>\n    </tr>\n    <tr>\n      <th>4</th>\n      <td>616</td>\n      <td>1</td>\n      <td>5</td>\n      <td>4</td>\n      <td>1</td>\n      <td>5.0</td>\n      <td>20</td>\n      <td>20</td>\n      <td>991</td>\n      <td>20</td>\n      <td>...</td>\n      <td>0</td>\n      <td>5341.329968</td>\n      <td>6437.335772</td>\n      <td>7229.128072</td>\n      <td>2</td>\n      <td>18</td>\n      <td>1233</td>\n      <td>1221</td>\n      <td>14:19:44</td>\n      <td>69.502667</td>\n    </tr>\n  </tbody>\n</table>\n<p>5 rows × 3087 columns</p>\n</div>"
     },
     "execution_count": 20,
     "metadata": {},
     "output_type": "execute_result"
    }
   ],
   "source": [
    "resp.head()"
   ]
  },
  {
   "cell_type": "markdown",
   "metadata": {},
   "source": [
    "Select the `age_r` column from `resp` and print the value counts.  How old are the youngest and oldest respondents?"
   ]
  },
  {
   "cell_type": "code",
   "execution_count": 21,
   "metadata": {},
   "outputs": [
    {
     "data": {
      "text/plain": "15    217\n16    223\n17    234\n18    235\n19    241\n20    258\n21    267\n22    287\n23    282\n24    269\n25    267\n26    260\n27    255\n28    252\n29    262\n30    292\n31    278\n32    273\n33    257\n34    255\n35    262\n36    266\n37    271\n38    256\n39    215\n40    256\n41    250\n42    215\n43    253\n44    235\nName: age_r, dtype: int64"
     },
     "execution_count": 21,
     "metadata": {},
     "output_type": "execute_result"
    }
   ],
   "source": [
    "## the youngest is 15 and oldest is 44\n",
    "resp['age_r'].value_counts().sort_index()"
   ]
  },
  {
   "cell_type": "markdown",
   "metadata": {},
   "source": [
    "We can use the `caseid` to match up rows from `resp` and `preg`.  For example, we can select the row from `resp` for `caseid` 2298 like this:"
   ]
  },
  {
   "cell_type": "code",
   "execution_count": 22,
   "metadata": {},
   "outputs": [
    {
     "data": {
      "text/plain": "   caseid  rscrinf  rdormres  rostscrn  rscreenhisp  rscreenrace  age_a  \\\n0    2298        1         5         5            1          5.0     27   \n\n   age_r  cmbirth  agescrn  ...  pubassis_i      basewgt  adj_mod_basewgt  \\\n0     27      902       27  ...           0  3247.916977      5123.759559   \n\n      finalwgt  secu_r  sest  cmintvw  cmlstyr  screentime   intvlngth  \n0  5556.717241       2    18     1234     1222    18:26:36  110.492667  \n\n[1 rows x 3087 columns]",
      "text/html": "<div>\n<style scoped>\n    .dataframe tbody tr th:only-of-type {\n        vertical-align: middle;\n    }\n\n    .dataframe tbody tr th {\n        vertical-align: top;\n    }\n\n    .dataframe thead th {\n        text-align: right;\n    }\n</style>\n<table border=\"1\" class=\"dataframe\">\n  <thead>\n    <tr style=\"text-align: right;\">\n      <th></th>\n      <th>caseid</th>\n      <th>rscrinf</th>\n      <th>rdormres</th>\n      <th>rostscrn</th>\n      <th>rscreenhisp</th>\n      <th>rscreenrace</th>\n      <th>age_a</th>\n      <th>age_r</th>\n      <th>cmbirth</th>\n      <th>agescrn</th>\n      <th>...</th>\n      <th>pubassis_i</th>\n      <th>basewgt</th>\n      <th>adj_mod_basewgt</th>\n      <th>finalwgt</th>\n      <th>secu_r</th>\n      <th>sest</th>\n      <th>cmintvw</th>\n      <th>cmlstyr</th>\n      <th>screentime</th>\n      <th>intvlngth</th>\n    </tr>\n  </thead>\n  <tbody>\n    <tr>\n      <th>0</th>\n      <td>2298</td>\n      <td>1</td>\n      <td>5</td>\n      <td>5</td>\n      <td>1</td>\n      <td>5.0</td>\n      <td>27</td>\n      <td>27</td>\n      <td>902</td>\n      <td>27</td>\n      <td>...</td>\n      <td>0</td>\n      <td>3247.916977</td>\n      <td>5123.759559</td>\n      <td>5556.717241</td>\n      <td>2</td>\n      <td>18</td>\n      <td>1234</td>\n      <td>1222</td>\n      <td>18:26:36</td>\n      <td>110.492667</td>\n    </tr>\n  </tbody>\n</table>\n<p>1 rows × 3087 columns</p>\n</div>"
     },
     "execution_count": 22,
     "metadata": {},
     "output_type": "execute_result"
    }
   ],
   "source": [
    "resp[resp.caseid==2298]"
   ]
  },
  {
   "cell_type": "markdown",
   "metadata": {},
   "source": [
    "And we can get the corresponding rows from `preg` like this:"
   ]
  },
  {
   "cell_type": "code",
   "execution_count": 23,
   "metadata": {},
   "outputs": [
    {
     "data": {
      "text/plain": "      caseid  pregordr  howpreg_n  howpreg_p  moscurrp  nowprgdk  pregend1  \\\n2610    2298         1        NaN        NaN       NaN       NaN       6.0   \n2611    2298         2        NaN        NaN       NaN       NaN       6.0   \n2612    2298         3        NaN        NaN       NaN       NaN       6.0   \n2613    2298         4        NaN        NaN       NaN       NaN       6.0   \n\n      pregend2  nbrnaliv  multbrth  ...  religion_i  metro_i      basewgt  \\\n2610       NaN       1.0       NaN  ...           0        0  3247.916977   \n2611       NaN       1.0       NaN  ...           0        0  3247.916977   \n2612       NaN       1.0       NaN  ...           0        0  3247.916977   \n2613       NaN       1.0       NaN  ...           0        0  3247.916977   \n\n      adj_mod_basewgt     finalwgt  secu_p  sest  cmintvw  totalwgt_lb  \\\n2610      5123.759559  5556.717241       2    18      NaN       6.8750   \n2611      5123.759559  5556.717241       2    18      NaN       5.5000   \n2612      5123.759559  5556.717241       2    18      NaN       4.1875   \n2613      5123.759559  5556.717241       2    18      NaN       6.8750   \n\n      totalwgt_kg  \n2610     3.118445  \n2611     2.494756  \n2612     1.899417  \n2613     3.118445  \n\n[4 rows x 245 columns]",
      "text/html": "<div>\n<style scoped>\n    .dataframe tbody tr th:only-of-type {\n        vertical-align: middle;\n    }\n\n    .dataframe tbody tr th {\n        vertical-align: top;\n    }\n\n    .dataframe thead th {\n        text-align: right;\n    }\n</style>\n<table border=\"1\" class=\"dataframe\">\n  <thead>\n    <tr style=\"text-align: right;\">\n      <th></th>\n      <th>caseid</th>\n      <th>pregordr</th>\n      <th>howpreg_n</th>\n      <th>howpreg_p</th>\n      <th>moscurrp</th>\n      <th>nowprgdk</th>\n      <th>pregend1</th>\n      <th>pregend2</th>\n      <th>nbrnaliv</th>\n      <th>multbrth</th>\n      <th>...</th>\n      <th>religion_i</th>\n      <th>metro_i</th>\n      <th>basewgt</th>\n      <th>adj_mod_basewgt</th>\n      <th>finalwgt</th>\n      <th>secu_p</th>\n      <th>sest</th>\n      <th>cmintvw</th>\n      <th>totalwgt_lb</th>\n      <th>totalwgt_kg</th>\n    </tr>\n  </thead>\n  <tbody>\n    <tr>\n      <th>2610</th>\n      <td>2298</td>\n      <td>1</td>\n      <td>NaN</td>\n      <td>NaN</td>\n      <td>NaN</td>\n      <td>NaN</td>\n      <td>6.0</td>\n      <td>NaN</td>\n      <td>1.0</td>\n      <td>NaN</td>\n      <td>...</td>\n      <td>0</td>\n      <td>0</td>\n      <td>3247.916977</td>\n      <td>5123.759559</td>\n      <td>5556.717241</td>\n      <td>2</td>\n      <td>18</td>\n      <td>NaN</td>\n      <td>6.8750</td>\n      <td>3.118445</td>\n    </tr>\n    <tr>\n      <th>2611</th>\n      <td>2298</td>\n      <td>2</td>\n      <td>NaN</td>\n      <td>NaN</td>\n      <td>NaN</td>\n      <td>NaN</td>\n      <td>6.0</td>\n      <td>NaN</td>\n      <td>1.0</td>\n      <td>NaN</td>\n      <td>...</td>\n      <td>0</td>\n      <td>0</td>\n      <td>3247.916977</td>\n      <td>5123.759559</td>\n      <td>5556.717241</td>\n      <td>2</td>\n      <td>18</td>\n      <td>NaN</td>\n      <td>5.5000</td>\n      <td>2.494756</td>\n    </tr>\n    <tr>\n      <th>2612</th>\n      <td>2298</td>\n      <td>3</td>\n      <td>NaN</td>\n      <td>NaN</td>\n      <td>NaN</td>\n      <td>NaN</td>\n      <td>6.0</td>\n      <td>NaN</td>\n      <td>1.0</td>\n      <td>NaN</td>\n      <td>...</td>\n      <td>0</td>\n      <td>0</td>\n      <td>3247.916977</td>\n      <td>5123.759559</td>\n      <td>5556.717241</td>\n      <td>2</td>\n      <td>18</td>\n      <td>NaN</td>\n      <td>4.1875</td>\n      <td>1.899417</td>\n    </tr>\n    <tr>\n      <th>2613</th>\n      <td>2298</td>\n      <td>4</td>\n      <td>NaN</td>\n      <td>NaN</td>\n      <td>NaN</td>\n      <td>NaN</td>\n      <td>6.0</td>\n      <td>NaN</td>\n      <td>1.0</td>\n      <td>NaN</td>\n      <td>...</td>\n      <td>0</td>\n      <td>0</td>\n      <td>3247.916977</td>\n      <td>5123.759559</td>\n      <td>5556.717241</td>\n      <td>2</td>\n      <td>18</td>\n      <td>NaN</td>\n      <td>6.8750</td>\n      <td>3.118445</td>\n    </tr>\n  </tbody>\n</table>\n<p>4 rows × 245 columns</p>\n</div>"
     },
     "execution_count": 23,
     "metadata": {},
     "output_type": "execute_result"
    }
   ],
   "source": [
    "preg[preg.caseid==2298]"
   ]
  },
  {
   "cell_type": "markdown",
   "metadata": {},
   "source": [
    "How old is the respondent with `caseid` 1?"
   ]
  },
  {
   "cell_type": "code",
   "execution_count": 24,
   "metadata": {},
   "outputs": [
    {
     "data": {
      "text/plain": "1069    44\nName: age_r, dtype: int64"
     },
     "execution_count": 24,
     "metadata": {},
     "output_type": "execute_result"
    }
   ],
   "source": [
    "## the person with caseid 1 is 44 years old.\n",
    "one_persons_data = resp[resp.caseid==1]\n",
    "one_persons_data[\"age_r\"]"
   ]
  },
  {
   "cell_type": "markdown",
   "metadata": {},
   "source": [
    "What are the pregnancy lengths for the respondent with `caseid` 2298?\n"
   ]
  },
  {
   "cell_type": "code",
   "execution_count": 25,
   "metadata": {},
   "outputs": [
    {
     "data": {
      "text/plain": "2610    40\n2611    36\n2612    30\n2613    40\nName: prglngth, dtype: int64"
     },
     "execution_count": 25,
     "metadata": {},
     "output_type": "execute_result"
    }
   ],
   "source": [
    "one_persons_data = preg[preg.caseid==2298]\n",
    "one_persons_data[\"prglngth\"]"
   ]
  },
  {
   "cell_type": "markdown",
   "metadata": {},
   "source": [
    "What was the birthweight of the first baby born to the respondent with `caseid` 5012?"
   ]
  },
  {
   "cell_type": "code",
   "execution_count": 26,
   "metadata": {},
   "outputs": [
    {
     "data": {
      "text/plain": "5515    6.0\nName: birthwgt_lb, dtype: float64"
     },
     "execution_count": 26,
     "metadata": {},
     "output_type": "execute_result"
    }
   ],
   "source": [
    "## It turns out the person with caseid 5012 only had the one child. The baby was 6.0 lbs.\n",
    "one_persons_data = preg[preg.caseid == 5012]\n",
    "one_persons_data[\"birthwgt_lb\"]"
   ]
  },
  {
   "cell_type": "code",
   "execution_count": 27,
   "outputs": [],
   "source": [
    "## testing chapter 2 ideas.\n",
    "## It seemed to work but we may need to remove Null values. Pressing on!\n",
    "hist = {}\n",
    "for x in preg.birthwgt_lb:\n",
    "    hist[x] = hist.get(x,0)+1\n",
    "\n",
    "## I used this to check my work but it spams nans so I commented it out\n",
    "# hist"
   ],
   "metadata": {
    "collapsed": false,
    "pycharm": {
     "name": "#%%\n"
    }
   }
  },
  {
   "cell_type": "code",
   "execution_count": 28,
   "metadata": {},
   "outputs": [],
   "source": [
    "## kind of an elegant way of doing this. Seems to get the same results.\n",
    "from collections import Counter\n",
    "counter = Counter(preg.birthwgt_lb)\n",
    "\n",
    "## Since this was practice I commented this out so I would not spam nans :)\n",
    "#counter"
   ]
  },
  {
   "cell_type": "code",
   "execution_count": 29,
   "metadata": {},
   "outputs": [],
   "source": [
    "## looks like thinkstats2 ignored the null values.\n",
    "import thinkstats2\n",
    "hist = thinkstats2.Hist(preg.birthwgt_lb)\n",
    "\n",
    "## Same with this one I commented it out so my code would be more readable.\n",
    "# hist"
   ]
  },
  {
   "cell_type": "code",
   "execution_count": 30,
   "outputs": [
    {
     "data": {
      "text/plain": "2223"
     },
     "execution_count": 30,
     "metadata": {},
     "output_type": "execute_result"
    }
   ],
   "source": [
    "## this looks like it checks the frequencies based on the weight I put in.\n",
    "## So in this case I tried 6 lbs which was the same weight that caseid = 5012 had\n",
    "## It turns out that there were 2223 babies that also had this weight.\n",
    "hist.Freq(6)\n",
    "\n"
   ],
   "metadata": {
    "collapsed": false,
    "pycharm": {
     "name": "#%%\n"
    }
   }
  },
  {
   "cell_type": "code",
   "execution_count": 31,
   "outputs": [
    {
     "data": {
      "text/plain": "0"
     },
     "execution_count": 31,
     "metadata": {},
     "output_type": "execute_result"
    }
   ],
   "source": [
    "## Lets check something impossible and see what we get.\n",
    "## Confirmed there were no babies that weighed 100 lbs.\n",
    "hist.Freq(100)\n"
   ],
   "metadata": {
    "collapsed": false,
    "pycharm": {
     "name": "#%%\n"
    }
   }
  },
  {
   "cell_type": "code",
   "execution_count": 32,
   "outputs": [
    {
     "data": {
      "text/plain": "dict_keys([7.0, 6.0, 8.0, 5.0, 9.0, 4.0, 10.0, 3.0, 2.0, 1.0, 11.0, 12.0, 0.0, 13.0, 14.0, 15.0])"
     },
     "execution_count": 32,
     "metadata": {},
     "output_type": "execute_result"
    }
   ],
   "source": [
    "## Since this is a dictionary this gives me the values stored in the dictionary.\n",
    "hist.Values()\n"
   ],
   "metadata": {
    "collapsed": false,
    "pycharm": {
     "name": "#%%\n"
    }
   }
  },
  {
   "cell_type": "code",
   "execution_count": 33,
   "outputs": [
    {
     "name": "stdout",
     "output_type": "stream",
     "text": [
      "0.0 8\n",
      "1.0 40\n",
      "2.0 53\n",
      "3.0 98\n",
      "4.0 229\n",
      "5.0 697\n",
      "6.0 2223\n",
      "7.0 3049\n",
      "8.0 1889\n",
      "9.0 623\n",
      "10.0 132\n",
      "11.0 26\n",
      "12.0 10\n",
      "13.0 3\n",
      "14.0 3\n",
      "15.0 1\n"
     ]
    }
   ],
   "source": [
    "## Very cool this is starting to look like a histogram.\n",
    "for val in sorted(hist.Values()):\n",
    "    print(val,hist.Freq(val))\n",
    "\n"
   ],
   "metadata": {
    "collapsed": false,
    "pycharm": {
     "name": "#%%\n"
    }
   }
  },
  {
   "cell_type": "code",
   "execution_count": 34,
   "outputs": [
    {
     "data": {
      "text/plain": "<Figure size 432x288 with 1 Axes>",
      "image/png": "[encoded data removed]"
     },
     "metadata": {
      "needs_background": "light"
     },
     "output_type": "display_data"
    },
    {
     "data": {
      "text/plain": "<Figure size 576x432 with 0 Axes>"
     },
     "metadata": {},
     "output_type": "display_data"
    }
   ],
   "source": [
    "## Awesome we got a histogram that looks fairly normal.\n",
    "import thinkplot\n",
    "thinkplot.Hist(hist)\n",
    "thinkplot.Show(xlabel = 'Weight in lbs', ylabel='Frequency')\n",
    "\n"
   ],
   "metadata": {
    "collapsed": false,
    "pycharm": {
     "name": "#%%\n"
    }
   }
  },
  {
   "cell_type": "code",
   "execution_count": 35,
   "outputs": [],
   "source": [
    "## following the book I already imported the data and made a column with weights in lb\n",
    "## this must be used to ensure that we are not building bias into our histogram since babies that die are most likely underweight. :(\n",
    "live=preg[preg.prgoutcome==1]\n",
    "\n"
   ],
   "metadata": {
    "collapsed": false,
    "pycharm": {
     "name": "#%%\n"
    }
   }
  },
  {
   "cell_type": "code",
   "execution_count": 36,
   "outputs": [
    {
     "data": {
      "text/plain": "<Figure size 432x288 with 1 Axes>",
      "image/png": "[encoded data removed]"
     },
     "metadata": {
      "needs_background": "light"
     },
     "output_type": "display_data"
    },
    {
     "data": {
      "text/plain": "<Figure size 576x432 with 0 Axes>"
     },
     "metadata": {},
     "output_type": "display_data"
    }
   ],
   "source": [
    "## Interesting it looks very similar to what I got before but I did not filter for live births.\n",
    "## I changed my variable to hist2 just to be sure\n",
    "hist_birthwgt_lb = thinkstats2.Hist(live.birthwgt_lb,label= 'birthwgt_lb')\n",
    "thinkplot.Hist(hist_birthwgt_lb)\n",
    "thinkplot.Show(xlabel='Weight in lbs', ylabel = 'Frequency')"
   ],
   "metadata": {
    "collapsed": false,
    "pycharm": {
     "name": "#%%\n"
    }
   }
  },
  {
   "cell_type": "code",
   "execution_count": 37,
   "outputs": [
    {
     "data": {
      "text/plain": "<Figure size 432x288 with 1 Axes>",
      "image/png": "[encoded data removed]"
     },
     "metadata": {
      "needs_background": "light"
     },
     "output_type": "display_data"
    },
    {
     "data": {
      "text/plain": "<Figure size 576x432 with 0 Axes>"
     },
     "metadata": {},
     "output_type": "display_data"
    }
   ],
   "source": [
    "## The author brings up a good point outliers would be easy to miss on a frequency graph.\n",
    "## here is the original with with outliers still in the histogram\n",
    "hist_prgLngth = thinkstats2.Hist(live.prglngth,label=\"Weeks until birth\")\n",
    "thinkplot.Hist(hist_prgLngth)\n",
    "thinkplot.Show(xlabel = 'Weeks', ylabel = 'frequency')"
   ],
   "metadata": {
    "collapsed": false,
    "pycharm": {
     "name": "#%%\n"
    }
   }
  },
  {
   "cell_type": "code",
   "execution_count": 38,
   "outputs": [
    {
     "name": "stdout",
     "output_type": "stream",
     "text": [
      "0 1\n",
      "4 1\n",
      "9 1\n",
      "13 1\n",
      "17 2\n",
      "18 1\n",
      "19 1\n",
      "20 1\n",
      "21 2\n",
      "22 7\n"
     ]
    }
   ],
   "source": [
    "## Checking for outliers\n",
    "for weeks, freq in hist_prgLngth.Smallest(10):\n",
    "    print(weeks, freq)\n"
   ],
   "metadata": {
    "collapsed": false,
    "pycharm": {
     "name": "#%%\n"
    }
   }
  },
  {
   "cell_type": "code",
   "execution_count": 39,
   "outputs": [
    {
     "data": {
      "text/plain": "<Figure size 432x288 with 1 Axes>",
      "image/png": "[encoded data removed]"
     },
     "metadata": {
      "needs_background": "light"
     },
     "output_type": "display_data"
    },
    {
     "data": {
      "text/plain": "<Figure size 576x432 with 0 Axes>"
     },
     "metadata": {},
     "output_type": "display_data"
    }
   ],
   "source": [
    "## now we are making a list of the babies who were either first borns or not\n",
    "firsts = live[live.birthord == 1]\n",
    "others = live[live.birthord != 1]\n",
    "\n",
    "## building two histograms one will be a histogram for first borns the other will contain all others.\n",
    "first_hist = thinkstats2.Hist(firsts.prglngth)\n",
    "other_hist = thinkstats2.Hist(others.prglngth)\n",
    "\n",
    "## plotting on the same axis so we can compare them.\n",
    "## I made an observation here that the histograms are hard to read due to a difference in sample size.\n",
    "## The book confirms that this is an issue that we should be concerned with.\n",
    "## Maybe we will use density functions to solve this?\n",
    "width = 0.45\n",
    "thinkplot.PrePlot(2)\n",
    "thinkplot.Hist(first_hist, align = 'right', width=width)\n",
    "thinkplot.Hist(other_hist,align='left', width=width)\n",
    "thinkplot.Show(xlabel='Weeks', ylabel = 'Frequency')"
   ],
   "metadata": {
    "collapsed": false,
    "pycharm": {
     "name": "#%%\n"
    }
   }
  },
  {
   "cell_type": "code",
   "execution_count": 40,
   "outputs": [],
   "source": [
    "## Computing the mean, standard deviation and variance\n",
    "mean = live.prglngth.mean()\n",
    "var = live.prglngth.var()\n",
    "std = live.prglngth.std()\n",
    "\n"
   ],
   "metadata": {
    "collapsed": false,
    "pycharm": {
     "name": "#%%\n"
    }
   }
  },
  {
   "cell_type": "code",
   "execution_count": 41,
   "outputs": [],
   "source": [
    "## We need to find the effect size using Cohens effect size\n",
    "def CohenEffectSize(group1,group2):\n",
    "    diff = group1.mean()-group2.mean()\n",
    "\n",
    "    var1 = group1.var()\n",
    "    var2 = group2.var()\n",
    "\n",
    "    n1,n2 = len(group1),len(group2)\n",
    "\n",
    "    pooled_var =(n1*var1+n2*var2)/(n1+n2)\n",
    "    d = diff/math.sqrt(pooled_var)\n",
    "    return d"
   ],
   "metadata": {
    "collapsed": false,
    "pycharm": {
     "name": "#%%\n"
    }
   }
  },
  {
   "cell_type": "code",
   "execution_count": 45,
   "outputs": [
    {
     "name": "stdout",
     "output_type": "stream",
     "text": [
      "0.028879044654449834\n",
      "Firsts:0        39\n",
      "2        39\n",
      "5        38\n",
      "8        39\n",
      "10       39\n",
      "         ..\n",
      "13576    39\n",
      "13578    39\n",
      "13581    39\n",
      "13584    34\n",
      "13588    39\n",
      "Name: prglngth, Length: 4413, dtype: int64\n",
      "1        39\n",
      "3        39\n",
      "4        39\n",
      "6        40\n",
      "7        42\n",
      "         ..\n",
      "13572    39\n",
      "13574    39\n",
      "13579    39\n",
      "13591    39\n",
      "13592    39\n",
      "Name: prglngth, Length: 4735, dtype: int64\n"
     ]
    }
   ],
   "source": [
    "## testing it out\n",
    "## It worked! The book said that he got .029 which is not much of a difference!\n",
    "effect_size = CohenEffectSize(firsts['prglngth'],others['prglngth'])\n",
    "print(effect_size)\n",
    "## This is very interesting since the effect size is in standard deviations it is saying that the difference is slightly larger than the mean.\n",
    "# But there is not a noticeable difference in fact I would say that first born babies are born very close to the average time.\n",
    "## According to the the wiki and confirmed on other websites we make decisions on effect size based on these metrics.\n",
    "## very small (0.01) small (0.2) medium (0.5) large (0.8) Very Large (1.20) Huge (2.0)\n",
    "## as we can see since our effect size was 0.029 we would fall between very small and small.\n",
    "# So I would say that there is a small chance that the baby would be born later than a normal\n",
    "# If the baby was their first baby there may be a small chance according to those metrics that the baby would slightly late."
   ],
   "metadata": {
    "collapsed": false,
    "pycharm": {
     "name": "#%%\n"
    }
   }
  }
 ],
 "metadata": {
  "kernelspec": {
   "display_name": "PyCharm (code)",
   "language": "python",
   "name": "pycharm-5c295fa7"
  },
  "language_info": {
   "codemirror_mode": {
    "name": "ipython",
    "version": 3
   },
   "file_extension": ".py",
   "mimetype": "text/x-python",
   "name": "python",
   "nbconvert_exporter": "python",
   "pygments_lexer": "ipython3",
   "version": "3.8.3"
  }
 },
 "nbformat": 4,
 "nbformat_minor": 4
}